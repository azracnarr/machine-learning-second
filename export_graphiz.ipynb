{
  "nbformat": 4,
  "nbformat_minor": 0,
  "metadata": {
    "colab": {
      "provenance": []
    },
    "kernelspec": {
      "name": "python3",
      "display_name": "Python 3"
    },
    "language_info": {
      "name": "python"
    }
  },
  "cells": [
    {
      "cell_type": "code",
      "execution_count": null,
      "metadata": {
        "id": "f3QRHFJG0jwQ"
      },
      "outputs": [],
      "source": [
        "import pandas as pd\n",
        "import numpy as np\n",
        "from sklearn.tree import DecisionTreeClassifier,export_graphviz\n",
        "import graphviz #görselleştirme\n",
        "from sklearn.model_selection import train_test_split\n",
        "import xgboost as xgb"
      ]
    },
    {
      "cell_type": "code",
      "source": [
        "df=pd.read_csv(\"heart.csv\")"
      ],
      "metadata": {
        "id": "ki2GvlYl9l5W"
      },
      "execution_count": null,
      "outputs": []
    },
    {
      "cell_type": "code",
      "source": [
        "df.head(3)"
      ],
      "metadata": {
        "colab": {
          "base_uri": "https://localhost:8080/",
          "height": 143
        },
        "id": "hXbyaIIA9tu3",
        "outputId": "b485148e-c186-498d-f060-a8e2540044fd"
      },
      "execution_count": null,
      "outputs": [
        {
          "output_type": "execute_result",
          "data": {
            "text/plain": [
              "   age  sex  cp  trtbps  chol  fbs  restecg  thalachh  exng  oldpeak  slp  \\\n",
              "0   63    1   3     145   233    1        0       150     0      2.3    0   \n",
              "1   37    1   2     130   250    0        1       187     0      3.5    0   \n",
              "2   41    0   1     130   204    0        0       172     0      1.4    2   \n",
              "\n",
              "   caa  thall  output  \n",
              "0    0      1       1  \n",
              "1    0      2       1  \n",
              "2    0      2       1  "
            ],
            "text/html": [
              "\n",
              "  <div id=\"df-b5a823f4-9cdc-4394-9d0d-a78eedb30872\" class=\"colab-df-container\">\n",
              "    <div>\n",
              "<style scoped>\n",
              "    .dataframe tbody tr th:only-of-type {\n",
              "        vertical-align: middle;\n",
              "    }\n",
              "\n",
              "    .dataframe tbody tr th {\n",
              "        vertical-align: top;\n",
              "    }\n",
              "\n",
              "    .dataframe thead th {\n",
              "        text-align: right;\n",
              "    }\n",
              "</style>\n",
              "<table border=\"1\" class=\"dataframe\">\n",
              "  <thead>\n",
              "    <tr style=\"text-align: right;\">\n",
              "      <th></th>\n",
              "      <th>age</th>\n",
              "      <th>sex</th>\n",
              "      <th>cp</th>\n",
              "      <th>trtbps</th>\n",
              "      <th>chol</th>\n",
              "      <th>fbs</th>\n",
              "      <th>restecg</th>\n",
              "      <th>thalachh</th>\n",
              "      <th>exng</th>\n",
              "      <th>oldpeak</th>\n",
              "      <th>slp</th>\n",
              "      <th>caa</th>\n",
              "      <th>thall</th>\n",
              "      <th>output</th>\n",
              "    </tr>\n",
              "  </thead>\n",
              "  <tbody>\n",
              "    <tr>\n",
              "      <th>0</th>\n",
              "      <td>63</td>\n",
              "      <td>1</td>\n",
              "      <td>3</td>\n",
              "      <td>145</td>\n",
              "      <td>233</td>\n",
              "      <td>1</td>\n",
              "      <td>0</td>\n",
              "      <td>150</td>\n",
              "      <td>0</td>\n",
              "      <td>2.3</td>\n",
              "      <td>0</td>\n",
              "      <td>0</td>\n",
              "      <td>1</td>\n",
              "      <td>1</td>\n",
              "    </tr>\n",
              "    <tr>\n",
              "      <th>1</th>\n",
              "      <td>37</td>\n",
              "      <td>1</td>\n",
              "      <td>2</td>\n",
              "      <td>130</td>\n",
              "      <td>250</td>\n",
              "      <td>0</td>\n",
              "      <td>1</td>\n",
              "      <td>187</td>\n",
              "      <td>0</td>\n",
              "      <td>3.5</td>\n",
              "      <td>0</td>\n",
              "      <td>0</td>\n",
              "      <td>2</td>\n",
              "      <td>1</td>\n",
              "    </tr>\n",
              "    <tr>\n",
              "      <th>2</th>\n",
              "      <td>41</td>\n",
              "      <td>0</td>\n",
              "      <td>1</td>\n",
              "      <td>130</td>\n",
              "      <td>204</td>\n",
              "      <td>0</td>\n",
              "      <td>0</td>\n",
              "      <td>172</td>\n",
              "      <td>0</td>\n",
              "      <td>1.4</td>\n",
              "      <td>2</td>\n",
              "      <td>0</td>\n",
              "      <td>2</td>\n",
              "      <td>1</td>\n",
              "    </tr>\n",
              "  </tbody>\n",
              "</table>\n",
              "</div>\n",
              "    <div class=\"colab-df-buttons\">\n",
              "\n",
              "  <div class=\"colab-df-container\">\n",
              "    <button class=\"colab-df-convert\" onclick=\"convertToInteractive('df-b5a823f4-9cdc-4394-9d0d-a78eedb30872')\"\n",
              "            title=\"Convert this dataframe to an interactive table.\"\n",
              "            style=\"display:none;\">\n",
              "\n",
              "  <svg xmlns=\"http://www.w3.org/2000/svg\" height=\"24px\" viewBox=\"0 -960 960 960\">\n",
              "    <path d=\"M120-120v-720h720v720H120Zm60-500h600v-160H180v160Zm220 220h160v-160H400v160Zm0 220h160v-160H400v160ZM180-400h160v-160H180v160Zm440 0h160v-160H620v160ZM180-180h160v-160H180v160Zm440 0h160v-160H620v160Z\"/>\n",
              "  </svg>\n",
              "    </button>\n",
              "\n",
              "  <style>\n",
              "    .colab-df-container {\n",
              "      display:flex;\n",
              "      gap: 12px;\n",
              "    }\n",
              "\n",
              "    .colab-df-convert {\n",
              "      background-color: #E8F0FE;\n",
              "      border: none;\n",
              "      border-radius: 50%;\n",
              "      cursor: pointer;\n",
              "      display: none;\n",
              "      fill: #1967D2;\n",
              "      height: 32px;\n",
              "      padding: 0 0 0 0;\n",
              "      width: 32px;\n",
              "    }\n",
              "\n",
              "    .colab-df-convert:hover {\n",
              "      background-color: #E2EBFA;\n",
              "      box-shadow: 0px 1px 2px rgba(60, 64, 67, 0.3), 0px 1px 3px 1px rgba(60, 64, 67, 0.15);\n",
              "      fill: #174EA6;\n",
              "    }\n",
              "\n",
              "    .colab-df-buttons div {\n",
              "      margin-bottom: 4px;\n",
              "    }\n",
              "\n",
              "    [theme=dark] .colab-df-convert {\n",
              "      background-color: #3B4455;\n",
              "      fill: #D2E3FC;\n",
              "    }\n",
              "\n",
              "    [theme=dark] .colab-df-convert:hover {\n",
              "      background-color: #434B5C;\n",
              "      box-shadow: 0px 1px 3px 1px rgba(0, 0, 0, 0.15);\n",
              "      filter: drop-shadow(0px 1px 2px rgba(0, 0, 0, 0.3));\n",
              "      fill: #FFFFFF;\n",
              "    }\n",
              "  </style>\n",
              "\n",
              "    <script>\n",
              "      const buttonEl =\n",
              "        document.querySelector('#df-b5a823f4-9cdc-4394-9d0d-a78eedb30872 button.colab-df-convert');\n",
              "      buttonEl.style.display =\n",
              "        google.colab.kernel.accessAllowed ? 'block' : 'none';\n",
              "\n",
              "      async function convertToInteractive(key) {\n",
              "        const element = document.querySelector('#df-b5a823f4-9cdc-4394-9d0d-a78eedb30872');\n",
              "        const dataTable =\n",
              "          await google.colab.kernel.invokeFunction('convertToInteractive',\n",
              "                                                    [key], {});\n",
              "        if (!dataTable) return;\n",
              "\n",
              "        const docLinkHtml = 'Like what you see? Visit the ' +\n",
              "          '<a target=\"_blank\" href=https://colab.research.google.com/notebooks/data_table.ipynb>data table notebook</a>'\n",
              "          + ' to learn more about interactive tables.';\n",
              "        element.innerHTML = '';\n",
              "        dataTable['output_type'] = 'display_data';\n",
              "        await google.colab.output.renderOutput(dataTable, element);\n",
              "        const docLink = document.createElement('div');\n",
              "        docLink.innerHTML = docLinkHtml;\n",
              "        element.appendChild(docLink);\n",
              "      }\n",
              "    </script>\n",
              "  </div>\n",
              "\n",
              "\n",
              "<div id=\"df-5b440c10-cb98-4b52-9b5e-700aa8a76e32\">\n",
              "  <button class=\"colab-df-quickchart\" onclick=\"quickchart('df-5b440c10-cb98-4b52-9b5e-700aa8a76e32')\"\n",
              "            title=\"Suggest charts\"\n",
              "            style=\"display:none;\">\n",
              "\n",
              "<svg xmlns=\"http://www.w3.org/2000/svg\" height=\"24px\"viewBox=\"0 0 24 24\"\n",
              "     width=\"24px\">\n",
              "    <g>\n",
              "        <path d=\"M19 3H5c-1.1 0-2 .9-2 2v14c0 1.1.9 2 2 2h14c1.1 0 2-.9 2-2V5c0-1.1-.9-2-2-2zM9 17H7v-7h2v7zm4 0h-2V7h2v10zm4 0h-2v-4h2v4z\"/>\n",
              "    </g>\n",
              "</svg>\n",
              "  </button>\n",
              "\n",
              "<style>\n",
              "  .colab-df-quickchart {\n",
              "      --bg-color: #E8F0FE;\n",
              "      --fill-color: #1967D2;\n",
              "      --hover-bg-color: #E2EBFA;\n",
              "      --hover-fill-color: #174EA6;\n",
              "      --disabled-fill-color: #AAA;\n",
              "      --disabled-bg-color: #DDD;\n",
              "  }\n",
              "\n",
              "  [theme=dark] .colab-df-quickchart {\n",
              "      --bg-color: #3B4455;\n",
              "      --fill-color: #D2E3FC;\n",
              "      --hover-bg-color: #434B5C;\n",
              "      --hover-fill-color: #FFFFFF;\n",
              "      --disabled-bg-color: #3B4455;\n",
              "      --disabled-fill-color: #666;\n",
              "  }\n",
              "\n",
              "  .colab-df-quickchart {\n",
              "    background-color: var(--bg-color);\n",
              "    border: none;\n",
              "    border-radius: 50%;\n",
              "    cursor: pointer;\n",
              "    display: none;\n",
              "    fill: var(--fill-color);\n",
              "    height: 32px;\n",
              "    padding: 0;\n",
              "    width: 32px;\n",
              "  }\n",
              "\n",
              "  .colab-df-quickchart:hover {\n",
              "    background-color: var(--hover-bg-color);\n",
              "    box-shadow: 0 1px 2px rgba(60, 64, 67, 0.3), 0 1px 3px 1px rgba(60, 64, 67, 0.15);\n",
              "    fill: var(--button-hover-fill-color);\n",
              "  }\n",
              "\n",
              "  .colab-df-quickchart-complete:disabled,\n",
              "  .colab-df-quickchart-complete:disabled:hover {\n",
              "    background-color: var(--disabled-bg-color);\n",
              "    fill: var(--disabled-fill-color);\n",
              "    box-shadow: none;\n",
              "  }\n",
              "\n",
              "  .colab-df-spinner {\n",
              "    border: 2px solid var(--fill-color);\n",
              "    border-color: transparent;\n",
              "    border-bottom-color: var(--fill-color);\n",
              "    animation:\n",
              "      spin 1s steps(1) infinite;\n",
              "  }\n",
              "\n",
              "  @keyframes spin {\n",
              "    0% {\n",
              "      border-color: transparent;\n",
              "      border-bottom-color: var(--fill-color);\n",
              "      border-left-color: var(--fill-color);\n",
              "    }\n",
              "    20% {\n",
              "      border-color: transparent;\n",
              "      border-left-color: var(--fill-color);\n",
              "      border-top-color: var(--fill-color);\n",
              "    }\n",
              "    30% {\n",
              "      border-color: transparent;\n",
              "      border-left-color: var(--fill-color);\n",
              "      border-top-color: var(--fill-color);\n",
              "      border-right-color: var(--fill-color);\n",
              "    }\n",
              "    40% {\n",
              "      border-color: transparent;\n",
              "      border-right-color: var(--fill-color);\n",
              "      border-top-color: var(--fill-color);\n",
              "    }\n",
              "    60% {\n",
              "      border-color: transparent;\n",
              "      border-right-color: var(--fill-color);\n",
              "    }\n",
              "    80% {\n",
              "      border-color: transparent;\n",
              "      border-right-color: var(--fill-color);\n",
              "      border-bottom-color: var(--fill-color);\n",
              "    }\n",
              "    90% {\n",
              "      border-color: transparent;\n",
              "      border-bottom-color: var(--fill-color);\n",
              "    }\n",
              "  }\n",
              "</style>\n",
              "\n",
              "  <script>\n",
              "    async function quickchart(key) {\n",
              "      const quickchartButtonEl =\n",
              "        document.querySelector('#' + key + ' button');\n",
              "      quickchartButtonEl.disabled = true;  // To prevent multiple clicks.\n",
              "      quickchartButtonEl.classList.add('colab-df-spinner');\n",
              "      try {\n",
              "        const charts = await google.colab.kernel.invokeFunction(\n",
              "            'suggestCharts', [key], {});\n",
              "      } catch (error) {\n",
              "        console.error('Error during call to suggestCharts:', error);\n",
              "      }\n",
              "      quickchartButtonEl.classList.remove('colab-df-spinner');\n",
              "      quickchartButtonEl.classList.add('colab-df-quickchart-complete');\n",
              "    }\n",
              "    (() => {\n",
              "      let quickchartButtonEl =\n",
              "        document.querySelector('#df-5b440c10-cb98-4b52-9b5e-700aa8a76e32 button');\n",
              "      quickchartButtonEl.style.display =\n",
              "        google.colab.kernel.accessAllowed ? 'block' : 'none';\n",
              "    })();\n",
              "  </script>\n",
              "</div>\n",
              "\n",
              "    </div>\n",
              "  </div>\n"
            ],
            "application/vnd.google.colaboratory.intrinsic+json": {
              "type": "dataframe",
              "variable_name": "df",
              "summary": "{\n  \"name\": \"df\",\n  \"rows\": 303,\n  \"fields\": [\n    {\n      \"column\": \"age\",\n      \"properties\": {\n        \"dtype\": \"number\",\n        \"std\": 9,\n        \"min\": 29,\n        \"max\": 77,\n        \"num_unique_values\": 41,\n        \"samples\": [\n          46,\n          66,\n          48\n        ],\n        \"semantic_type\": \"\",\n        \"description\": \"\"\n      }\n    },\n    {\n      \"column\": \"sex\",\n      \"properties\": {\n        \"dtype\": \"number\",\n        \"std\": 0,\n        \"min\": 0,\n        \"max\": 1,\n        \"num_unique_values\": 2,\n        \"samples\": [\n          0,\n          1\n        ],\n        \"semantic_type\": \"\",\n        \"description\": \"\"\n      }\n    },\n    {\n      \"column\": \"cp\",\n      \"properties\": {\n        \"dtype\": \"number\",\n        \"std\": 1,\n        \"min\": 0,\n        \"max\": 3,\n        \"num_unique_values\": 4,\n        \"samples\": [\n          2,\n          0\n        ],\n        \"semantic_type\": \"\",\n        \"description\": \"\"\n      }\n    },\n    {\n      \"column\": \"trtbps\",\n      \"properties\": {\n        \"dtype\": \"number\",\n        \"std\": 17,\n        \"min\": 94,\n        \"max\": 200,\n        \"num_unique_values\": 49,\n        \"samples\": [\n          104,\n          123\n        ],\n        \"semantic_type\": \"\",\n        \"description\": \"\"\n      }\n    },\n    {\n      \"column\": \"chol\",\n      \"properties\": {\n        \"dtype\": \"number\",\n        \"std\": 51,\n        \"min\": 126,\n        \"max\": 564,\n        \"num_unique_values\": 152,\n        \"samples\": [\n          277,\n          169\n        ],\n        \"semantic_type\": \"\",\n        \"description\": \"\"\n      }\n    },\n    {\n      \"column\": \"fbs\",\n      \"properties\": {\n        \"dtype\": \"number\",\n        \"std\": 0,\n        \"min\": 0,\n        \"max\": 1,\n        \"num_unique_values\": 2,\n        \"samples\": [\n          0,\n          1\n        ],\n        \"semantic_type\": \"\",\n        \"description\": \"\"\n      }\n    },\n    {\n      \"column\": \"restecg\",\n      \"properties\": {\n        \"dtype\": \"number\",\n        \"std\": 0,\n        \"min\": 0,\n        \"max\": 2,\n        \"num_unique_values\": 3,\n        \"samples\": [\n          0,\n          1\n        ],\n        \"semantic_type\": \"\",\n        \"description\": \"\"\n      }\n    },\n    {\n      \"column\": \"thalachh\",\n      \"properties\": {\n        \"dtype\": \"number\",\n        \"std\": 22,\n        \"min\": 71,\n        \"max\": 202,\n        \"num_unique_values\": 91,\n        \"samples\": [\n          159,\n          152\n        ],\n        \"semantic_type\": \"\",\n        \"description\": \"\"\n      }\n    },\n    {\n      \"column\": \"exng\",\n      \"properties\": {\n        \"dtype\": \"number\",\n        \"std\": 0,\n        \"min\": 0,\n        \"max\": 1,\n        \"num_unique_values\": 2,\n        \"samples\": [\n          1,\n          0\n        ],\n        \"semantic_type\": \"\",\n        \"description\": \"\"\n      }\n    },\n    {\n      \"column\": \"oldpeak\",\n      \"properties\": {\n        \"dtype\": \"number\",\n        \"std\": 1.1610750220686348,\n        \"min\": 0.0,\n        \"max\": 6.2,\n        \"num_unique_values\": 40,\n        \"samples\": [\n          1.9,\n          3.0\n        ],\n        \"semantic_type\": \"\",\n        \"description\": \"\"\n      }\n    },\n    {\n      \"column\": \"slp\",\n      \"properties\": {\n        \"dtype\": \"number\",\n        \"std\": 0,\n        \"min\": 0,\n        \"max\": 2,\n        \"num_unique_values\": 3,\n        \"samples\": [\n          0,\n          2\n        ],\n        \"semantic_type\": \"\",\n        \"description\": \"\"\n      }\n    },\n    {\n      \"column\": \"caa\",\n      \"properties\": {\n        \"dtype\": \"number\",\n        \"std\": 1,\n        \"min\": 0,\n        \"max\": 4,\n        \"num_unique_values\": 5,\n        \"samples\": [\n          2,\n          4\n        ],\n        \"semantic_type\": \"\",\n        \"description\": \"\"\n      }\n    },\n    {\n      \"column\": \"thall\",\n      \"properties\": {\n        \"dtype\": \"number\",\n        \"std\": 0,\n        \"min\": 0,\n        \"max\": 3,\n        \"num_unique_values\": 4,\n        \"samples\": [\n          2,\n          0\n        ],\n        \"semantic_type\": \"\",\n        \"description\": \"\"\n      }\n    },\n    {\n      \"column\": \"output\",\n      \"properties\": {\n        \"dtype\": \"number\",\n        \"std\": 0,\n        \"min\": 0,\n        \"max\": 1,\n        \"num_unique_values\": 2,\n        \"samples\": [\n          0,\n          1\n        ],\n        \"semantic_type\": \"\",\n        \"description\": \"\"\n      }\n    }\n  ]\n}"
            }
          },
          "metadata": {},
          "execution_count": 3
        }
      ]
    },
    {
      "cell_type": "code",
      "source": [
        "y=df['output']\n",
        "x=df.drop(columns=[\"output\"])"
      ],
      "metadata": {
        "id": "oqDYIbRl-BDf"
      },
      "execution_count": null,
      "outputs": []
    },
    {
      "cell_type": "code",
      "source": [
        "x_train, x_test, y_train, y_test = train_test_split(x, y, test_size=0.2, random_state=42)"
      ],
      "metadata": {
        "id": "MaKWJ-3h9wvA"
      },
      "execution_count": null,
      "outputs": []
    },
    {
      "cell_type": "code",
      "source": [
        "df.info()"
      ],
      "metadata": {
        "colab": {
          "base_uri": "https://localhost:8080/"
        },
        "id": "44TflnJAD3C0",
        "outputId": "f0083729-0bd3-464e-c55e-0c908c77c46c"
      },
      "execution_count": null,
      "outputs": [
        {
          "output_type": "stream",
          "name": "stdout",
          "text": [
            "<class 'pandas.core.frame.DataFrame'>\n",
            "RangeIndex: 303 entries, 0 to 302\n",
            "Data columns (total 14 columns):\n",
            " #   Column    Non-Null Count  Dtype  \n",
            "---  ------    --------------  -----  \n",
            " 0   age       303 non-null    int64  \n",
            " 1   sex       303 non-null    int64  \n",
            " 2   cp        303 non-null    int64  \n",
            " 3   trtbps    303 non-null    int64  \n",
            " 4   chol      303 non-null    int64  \n",
            " 5   fbs       303 non-null    int64  \n",
            " 6   restecg   303 non-null    int64  \n",
            " 7   thalachh  303 non-null    int64  \n",
            " 8   exng      303 non-null    int64  \n",
            " 9   oldpeak   303 non-null    float64\n",
            " 10  slp       303 non-null    int64  \n",
            " 11  caa       303 non-null    int64  \n",
            " 12  thall     303 non-null    int64  \n",
            " 13  output    303 non-null    int64  \n",
            "dtypes: float64(1), int64(13)\n",
            "memory usage: 33.3 KB\n"
          ]
        }
      ]
    },
    {
      "cell_type": "code",
      "source": [
        "dt=DecisionTreeClassifier()\n",
        "model=dt.fit(x,y)\n",
        "model.score(x,y)"
      ],
      "metadata": {
        "colab": {
          "base_uri": "https://localhost:8080/"
        },
        "id": "XEroQcPfPxt5",
        "outputId": "799b48d1-8907-4e0c-ee7c-3ef05a3ff7a6"
      },
      "execution_count": null,
      "outputs": [
        {
          "output_type": "execute_result",
          "data": {
            "text/plain": [
              "1.0"
            ]
          },
          "metadata": {},
          "execution_count": 7
        }
      ]
    },
    {
      "cell_type": "code",
      "source": [
        "tree=DecisionTreeClassifier()\n",
        "model=tree.fit(x_train,y_train)\n",
        "model.score(x_test,y_test)\n"
      ],
      "metadata": {
        "colab": {
          "base_uri": "https://localhost:8080/"
        },
        "id": "BOxVT8e0-KEn",
        "outputId": "83dc8344-84c9-4ac9-d3c4-9f0c9f297d54"
      },
      "execution_count": null,
      "outputs": [
        {
          "output_type": "execute_result",
          "data": {
            "text/plain": [
              "0.819672131147541"
            ]
          },
          "metadata": {},
          "execution_count": 8
        }
      ]
    },
    {
      "cell_type": "code",
      "source": [
        "dot=export_graphviz(model,feature_names=x.columns,filled=True)\n",
        "gorsel=graphviz.Source(dot)\n",
        "gorsel"
      ],
      "metadata": {
        "colab": {
          "base_uri": "https://localhost:8080/",
          "height": 1000
        },
        "id": "nOxm5OtzsmXg",
        "outputId": "3011e074-43cd-4216-bd72-4270383266f6"
      },
      "execution_count": null,
      "outputs": [
        {
          "output_type": "execute_result",
          "data": {
            "image/svg+xml": "<?xml version=\"1.0\" encoding=\"UTF-8\" standalone=\"no\"?>\n<!DOCTYPE svg PUBLIC \"-//W3C//DTD SVG 1.1//EN\"\n \"http://www.w3.org/Graphics/SVG/1.1/DTD/svg11.dtd\">\n<!-- Generated by graphviz version 2.43.0 (0)\n -->\n<!-- Title: Tree Pages: 1 -->\n<svg width=\"2615pt\" height=\"997pt\"\n viewBox=\"0.00 0.00 2614.50 997.00\" xmlns=\"http://www.w3.org/2000/svg\" xmlns:xlink=\"http://www.w3.org/1999/xlink\">\n<g id=\"graph0\" class=\"graph\" transform=\"scale(1 1) rotate(0) translate(4 993)\">\n<title>Tree</title>\n<polygon fill=\"white\" stroke=\"transparent\" points=\"-4,4 -4,-993 2610.5,-993 2610.5,4 -4,4\"/>\n<!-- 0 -->\n<g id=\"node1\" class=\"node\">\n<title>0</title>\n<polygon fill=\"#dbedfa\" stroke=\"black\" points=\"1513.5,-989 1388.5,-989 1388.5,-921 1513.5,-921 1513.5,-989\"/>\n<text text-anchor=\"middle\" x=\"1451\" y=\"-973.8\" font-family=\"Helvetica,sans-Serif\" font-size=\"14.00\">cp &lt;= 0.5</text>\n<text text-anchor=\"middle\" x=\"1451\" y=\"-958.8\" font-family=\"Helvetica,sans-Serif\" font-size=\"14.00\">gini = 0.495</text>\n<text text-anchor=\"middle\" x=\"1451\" y=\"-943.8\" font-family=\"Helvetica,sans-Serif\" font-size=\"14.00\">samples = 242</text>\n<text text-anchor=\"middle\" x=\"1451\" y=\"-928.8\" font-family=\"Helvetica,sans-Serif\" font-size=\"14.00\">value = [109, 133]</text>\n</g>\n<!-- 1 -->\n<g id=\"node2\" class=\"node\">\n<title>1</title>\n<polygon fill=\"#f0b58a\" stroke=\"black\" points=\"1202,-885 1092,-885 1092,-817 1202,-817 1202,-885\"/>\n<text text-anchor=\"middle\" x=\"1147\" y=\"-869.8\" font-family=\"Helvetica,sans-Serif\" font-size=\"14.00\">caa &lt;= 0.5</text>\n<text text-anchor=\"middle\" x=\"1147\" y=\"-854.8\" font-family=\"Helvetica,sans-Serif\" font-size=\"14.00\">gini = 0.413</text>\n<text text-anchor=\"middle\" x=\"1147\" y=\"-839.8\" font-family=\"Helvetica,sans-Serif\" font-size=\"14.00\">samples = 110</text>\n<text text-anchor=\"middle\" x=\"1147\" y=\"-824.8\" font-family=\"Helvetica,sans-Serif\" font-size=\"14.00\">value = [78, 32]</text>\n</g>\n<!-- 0&#45;&gt;1 -->\n<g id=\"edge1\" class=\"edge\">\n<title>0&#45;&gt;1</title>\n<path fill=\"none\" stroke=\"black\" d=\"M1388.38,-932.99C1336.75,-915.67 1263.8,-891.19 1211.63,-873.68\"/>\n<polygon fill=\"black\" stroke=\"black\" points=\"1212.73,-870.36 1202.14,-870.5 1210.51,-877 1212.73,-870.36\"/>\n<text text-anchor=\"middle\" x=\"1213.28\" y=\"-889.18\" font-family=\"Helvetica,sans-Serif\" font-size=\"14.00\">True</text>\n</g>\n<!-- 34 -->\n<g id=\"node35\" class=\"node\">\n<title>34</title>\n<polygon fill=\"#76bbed\" stroke=\"black\" points=\"1765.5,-885 1648.5,-885 1648.5,-817 1765.5,-817 1765.5,-885\"/>\n<text text-anchor=\"middle\" x=\"1707\" y=\"-869.8\" font-family=\"Helvetica,sans-Serif\" font-size=\"14.00\">oldpeak &lt;= 1.95</text>\n<text text-anchor=\"middle\" x=\"1707\" y=\"-854.8\" font-family=\"Helvetica,sans-Serif\" font-size=\"14.00\">gini = 0.359</text>\n<text text-anchor=\"middle\" x=\"1707\" y=\"-839.8\" font-family=\"Helvetica,sans-Serif\" font-size=\"14.00\">samples = 132</text>\n<text text-anchor=\"middle\" x=\"1707\" y=\"-824.8\" font-family=\"Helvetica,sans-Serif\" font-size=\"14.00\">value = [31, 101]</text>\n</g>\n<!-- 0&#45;&gt;34 -->\n<g id=\"edge34\" class=\"edge\">\n<title>0&#45;&gt;34</title>\n<path fill=\"none\" stroke=\"black\" d=\"M1513.62,-929.05C1551.42,-913.99 1599.62,-894.78 1638.44,-879.32\"/>\n<polygon fill=\"black\" stroke=\"black\" points=\"1640.1,-882.42 1648.1,-875.47 1637.51,-875.92 1640.1,-882.42\"/>\n<text text-anchor=\"middle\" x=\"1638.22\" y=\"-894.73\" font-family=\"Helvetica,sans-Serif\" font-size=\"14.00\">False</text>\n</g>\n<!-- 2 -->\n<g id=\"node3\" class=\"node\">\n<title>2</title>\n<polygon fill=\"#eaf4fc\" stroke=\"black\" points=\"851,-781 741,-781 741,-713 851,-713 851,-781\"/>\n<text text-anchor=\"middle\" x=\"796\" y=\"-765.8\" font-family=\"Helvetica,sans-Serif\" font-size=\"14.00\">exng &lt;= 0.5</text>\n<text text-anchor=\"middle\" x=\"796\" y=\"-750.8\" font-family=\"Helvetica,sans-Serif\" font-size=\"14.00\">gini = 0.498</text>\n<text text-anchor=\"middle\" x=\"796\" y=\"-735.8\" font-family=\"Helvetica,sans-Serif\" font-size=\"14.00\">samples = 53</text>\n<text text-anchor=\"middle\" x=\"796\" y=\"-720.8\" font-family=\"Helvetica,sans-Serif\" font-size=\"14.00\">value = [25, 28]</text>\n</g>\n<!-- 1&#45;&gt;2 -->\n<g id=\"edge2\" class=\"edge\">\n<title>1&#45;&gt;2</title>\n<path fill=\"none\" stroke=\"black\" d=\"M1091.77,-833.95C1029.24,-815.78 927.47,-786.21 861.12,-766.93\"/>\n<polygon fill=\"black\" stroke=\"black\" points=\"861.78,-763.47 851.2,-764.04 859.82,-770.19 861.78,-763.47\"/>\n</g>\n<!-- 25 -->\n<g id=\"node26\" class=\"node\">\n<title>25</title>\n<polygon fill=\"#e78b48\" stroke=\"black\" points=\"1201,-781 1093,-781 1093,-713 1201,-713 1201,-781\"/>\n<text text-anchor=\"middle\" x=\"1147\" y=\"-765.8\" font-family=\"Helvetica,sans-Serif\" font-size=\"14.00\">trtbps &lt;= 109.0</text>\n<text text-anchor=\"middle\" x=\"1147\" y=\"-750.8\" font-family=\"Helvetica,sans-Serif\" font-size=\"14.00\">gini = 0.131</text>\n<text text-anchor=\"middle\" x=\"1147\" y=\"-735.8\" font-family=\"Helvetica,sans-Serif\" font-size=\"14.00\">samples = 57</text>\n<text text-anchor=\"middle\" x=\"1147\" y=\"-720.8\" font-family=\"Helvetica,sans-Serif\" font-size=\"14.00\">value = [53, 4]</text>\n</g>\n<!-- 1&#45;&gt;25 -->\n<g id=\"edge25\" class=\"edge\">\n<title>1&#45;&gt;25</title>\n<path fill=\"none\" stroke=\"black\" d=\"M1147,-816.88C1147,-808.78 1147,-799.98 1147,-791.47\"/>\n<polygon fill=\"black\" stroke=\"black\" points=\"1150.5,-791.3 1147,-781.3 1143.5,-791.3 1150.5,-791.3\"/>\n</g>\n<!-- 3 -->\n<g id=\"node4\" class=\"node\">\n<title>3</title>\n<polygon fill=\"#66b3eb\" stroke=\"black\" points=\"398,-677 296,-677 296,-609 398,-609 398,-677\"/>\n<text text-anchor=\"middle\" x=\"347\" y=\"-661.8\" font-family=\"Helvetica,sans-Serif\" font-size=\"14.00\">thall &lt;= 2.5</text>\n<text text-anchor=\"middle\" x=\"347\" y=\"-646.8\" font-family=\"Helvetica,sans-Serif\" font-size=\"14.00\">gini = 0.302</text>\n<text text-anchor=\"middle\" x=\"347\" y=\"-631.8\" font-family=\"Helvetica,sans-Serif\" font-size=\"14.00\">samples = 27</text>\n<text text-anchor=\"middle\" x=\"347\" y=\"-616.8\" font-family=\"Helvetica,sans-Serif\" font-size=\"14.00\">value = [5, 22]</text>\n</g>\n<!-- 2&#45;&gt;3 -->\n<g id=\"edge3\" class=\"edge\">\n<title>2&#45;&gt;3</title>\n<path fill=\"none\" stroke=\"black\" d=\"M740.94,-733.49C656.5,-714.31 495.59,-677.76 407.81,-657.82\"/>\n<polygon fill=\"black\" stroke=\"black\" points=\"408.53,-654.39 398,-655.59 406.98,-661.21 408.53,-654.39\"/>\n</g>\n<!-- 14 -->\n<g id=\"node15\" class=\"node\">\n<title>14</title>\n<polygon fill=\"#eda774\" stroke=\"black\" points=\"849.5,-677 742.5,-677 742.5,-609 849.5,-609 849.5,-677\"/>\n<text text-anchor=\"middle\" x=\"796\" y=\"-661.8\" font-family=\"Helvetica,sans-Serif\" font-size=\"14.00\">oldpeak &lt;= 0.7</text>\n<text text-anchor=\"middle\" x=\"796\" y=\"-646.8\" font-family=\"Helvetica,sans-Serif\" font-size=\"14.00\">gini = 0.355</text>\n<text text-anchor=\"middle\" x=\"796\" y=\"-631.8\" font-family=\"Helvetica,sans-Serif\" font-size=\"14.00\">samples = 26</text>\n<text text-anchor=\"middle\" x=\"796\" y=\"-616.8\" font-family=\"Helvetica,sans-Serif\" font-size=\"14.00\">value = [20, 6]</text>\n</g>\n<!-- 2&#45;&gt;14 -->\n<g id=\"edge14\" class=\"edge\">\n<title>2&#45;&gt;14</title>\n<path fill=\"none\" stroke=\"black\" d=\"M796,-712.88C796,-704.78 796,-695.98 796,-687.47\"/>\n<polygon fill=\"black\" stroke=\"black\" points=\"799.5,-687.3 796,-677.3 792.5,-687.3 799.5,-687.3\"/>\n</g>\n<!-- 4 -->\n<g id=\"node5\" class=\"node\">\n<title>4</title>\n<polygon fill=\"#43a2e6\" stroke=\"black\" points=\"219,-573 117,-573 117,-505 219,-505 219,-573\"/>\n<text text-anchor=\"middle\" x=\"168\" y=\"-557.8\" font-family=\"Helvetica,sans-Serif\" font-size=\"14.00\">chol &lt;= 316.5</text>\n<text text-anchor=\"middle\" x=\"168\" y=\"-542.8\" font-family=\"Helvetica,sans-Serif\" font-size=\"14.00\">gini = 0.095</text>\n<text text-anchor=\"middle\" x=\"168\" y=\"-527.8\" font-family=\"Helvetica,sans-Serif\" font-size=\"14.00\">samples = 20</text>\n<text text-anchor=\"middle\" x=\"168\" y=\"-512.8\" font-family=\"Helvetica,sans-Serif\" font-size=\"14.00\">value = [1, 19]</text>\n</g>\n<!-- 3&#45;&gt;4 -->\n<g id=\"edge4\" class=\"edge\">\n<title>3&#45;&gt;4</title>\n<path fill=\"none\" stroke=\"black\" d=\"M295.71,-612.77C274.64,-600.77 250.1,-586.78 228.19,-574.3\"/>\n<polygon fill=\"black\" stroke=\"black\" points=\"229.72,-571.14 219.3,-569.23 226.26,-577.23 229.72,-571.14\"/>\n</g>\n<!-- 9 -->\n<g id=\"node10\" class=\"node\">\n<title>9</title>\n<polygon fill=\"#f8e0ce\" stroke=\"black\" points=\"399,-573 295,-573 295,-505 399,-505 399,-573\"/>\n<text text-anchor=\"middle\" x=\"347\" y=\"-557.8\" font-family=\"Helvetica,sans-Serif\" font-size=\"14.00\">restecg &lt;= 0.5</text>\n<text text-anchor=\"middle\" x=\"347\" y=\"-542.8\" font-family=\"Helvetica,sans-Serif\" font-size=\"14.00\">gini = 0.49</text>\n<text text-anchor=\"middle\" x=\"347\" y=\"-527.8\" font-family=\"Helvetica,sans-Serif\" font-size=\"14.00\">samples = 7</text>\n<text text-anchor=\"middle\" x=\"347\" y=\"-512.8\" font-family=\"Helvetica,sans-Serif\" font-size=\"14.00\">value = [4, 3]</text>\n</g>\n<!-- 3&#45;&gt;9 -->\n<g id=\"edge9\" class=\"edge\">\n<title>3&#45;&gt;9</title>\n<path fill=\"none\" stroke=\"black\" d=\"M347,-608.88C347,-600.78 347,-591.98 347,-583.47\"/>\n<polygon fill=\"black\" stroke=\"black\" points=\"350.5,-583.3 347,-573.3 343.5,-583.3 350.5,-583.3\"/>\n</g>\n<!-- 5 -->\n<g id=\"node6\" class=\"node\">\n<title>5</title>\n<polygon fill=\"#399de5\" stroke=\"black\" points=\"102,-461.5 0,-461.5 0,-408.5 102,-408.5 102,-461.5\"/>\n<text text-anchor=\"middle\" x=\"51\" y=\"-446.3\" font-family=\"Helvetica,sans-Serif\" font-size=\"14.00\">gini = 0.0</text>\n<text text-anchor=\"middle\" x=\"51\" y=\"-431.3\" font-family=\"Helvetica,sans-Serif\" font-size=\"14.00\">samples = 18</text>\n<text text-anchor=\"middle\" x=\"51\" y=\"-416.3\" font-family=\"Helvetica,sans-Serif\" font-size=\"14.00\">value = [0, 18]</text>\n</g>\n<!-- 4&#45;&gt;5 -->\n<g id=\"edge5\" class=\"edge\">\n<title>4&#45;&gt;5</title>\n<path fill=\"none\" stroke=\"black\" d=\"M130.01,-504.88C116.52,-493.12 101.35,-479.89 87.94,-468.2\"/>\n<polygon fill=\"black\" stroke=\"black\" points=\"90.11,-465.45 80.27,-461.52 85.51,-470.73 90.11,-465.45\"/>\n</g>\n<!-- 6 -->\n<g id=\"node7\" class=\"node\">\n<title>6</title>\n<polygon fill=\"#ffffff\" stroke=\"black\" points=\"215.5,-469 120.5,-469 120.5,-401 215.5,-401 215.5,-469\"/>\n<text text-anchor=\"middle\" x=\"168\" y=\"-453.8\" font-family=\"Helvetica,sans-Serif\" font-size=\"14.00\">age &lt;= 61.5</text>\n<text text-anchor=\"middle\" x=\"168\" y=\"-438.8\" font-family=\"Helvetica,sans-Serif\" font-size=\"14.00\">gini = 0.5</text>\n<text text-anchor=\"middle\" x=\"168\" y=\"-423.8\" font-family=\"Helvetica,sans-Serif\" font-size=\"14.00\">samples = 2</text>\n<text text-anchor=\"middle\" x=\"168\" y=\"-408.8\" font-family=\"Helvetica,sans-Serif\" font-size=\"14.00\">value = [1, 1]</text>\n</g>\n<!-- 4&#45;&gt;6 -->\n<g id=\"edge6\" class=\"edge\">\n<title>4&#45;&gt;6</title>\n<path fill=\"none\" stroke=\"black\" d=\"M168,-504.88C168,-496.78 168,-487.98 168,-479.47\"/>\n<polygon fill=\"black\" stroke=\"black\" points=\"171.5,-479.3 168,-469.3 164.5,-479.3 171.5,-479.3\"/>\n</g>\n<!-- 7 -->\n<g id=\"node8\" class=\"node\">\n<title>7</title>\n<polygon fill=\"#e58139\" stroke=\"black\" points=\"107.5,-357.5 12.5,-357.5 12.5,-304.5 107.5,-304.5 107.5,-357.5\"/>\n<text text-anchor=\"middle\" x=\"60\" y=\"-342.3\" font-family=\"Helvetica,sans-Serif\" font-size=\"14.00\">gini = 0.0</text>\n<text text-anchor=\"middle\" x=\"60\" y=\"-327.3\" font-family=\"Helvetica,sans-Serif\" font-size=\"14.00\">samples = 1</text>\n<text text-anchor=\"middle\" x=\"60\" y=\"-312.3\" font-family=\"Helvetica,sans-Serif\" font-size=\"14.00\">value = [1, 0]</text>\n</g>\n<!-- 6&#45;&gt;7 -->\n<g id=\"edge7\" class=\"edge\">\n<title>6&#45;&gt;7</title>\n<path fill=\"none\" stroke=\"black\" d=\"M132.94,-400.88C120.59,-389.23 106.74,-376.14 94.45,-364.53\"/>\n<polygon fill=\"black\" stroke=\"black\" points=\"96.69,-361.84 87.02,-357.52 91.89,-366.93 96.69,-361.84\"/>\n</g>\n<!-- 8 -->\n<g id=\"node9\" class=\"node\">\n<title>8</title>\n<polygon fill=\"#399de5\" stroke=\"black\" points=\"220.5,-357.5 125.5,-357.5 125.5,-304.5 220.5,-304.5 220.5,-357.5\"/>\n<text text-anchor=\"middle\" x=\"173\" y=\"-342.3\" font-family=\"Helvetica,sans-Serif\" font-size=\"14.00\">gini = 0.0</text>\n<text text-anchor=\"middle\" x=\"173\" y=\"-327.3\" font-family=\"Helvetica,sans-Serif\" font-size=\"14.00\">samples = 1</text>\n<text text-anchor=\"middle\" x=\"173\" y=\"-312.3\" font-family=\"Helvetica,sans-Serif\" font-size=\"14.00\">value = [0, 1]</text>\n</g>\n<!-- 6&#45;&gt;8 -->\n<g id=\"edge8\" class=\"edge\">\n<title>6&#45;&gt;8</title>\n<path fill=\"none\" stroke=\"black\" d=\"M169.62,-400.88C170.15,-390.22 170.73,-378.35 171.26,-367.52\"/>\n<polygon fill=\"black\" stroke=\"black\" points=\"174.76,-367.68 171.75,-357.52 167.76,-367.34 174.76,-367.68\"/>\n</g>\n<!-- 10 -->\n<g id=\"node11\" class=\"node\">\n<title>10</title>\n<polygon fill=\"#e58139\" stroke=\"black\" points=\"328.5,-461.5 233.5,-461.5 233.5,-408.5 328.5,-408.5 328.5,-461.5\"/>\n<text text-anchor=\"middle\" x=\"281\" y=\"-446.3\" font-family=\"Helvetica,sans-Serif\" font-size=\"14.00\">gini = 0.0</text>\n<text text-anchor=\"middle\" x=\"281\" y=\"-431.3\" font-family=\"Helvetica,sans-Serif\" font-size=\"14.00\">samples = 3</text>\n<text text-anchor=\"middle\" x=\"281\" y=\"-416.3\" font-family=\"Helvetica,sans-Serif\" font-size=\"14.00\">value = [3, 0]</text>\n</g>\n<!-- 9&#45;&gt;10 -->\n<g id=\"edge10\" class=\"edge\">\n<title>9&#45;&gt;10</title>\n<path fill=\"none\" stroke=\"black\" d=\"M325.57,-504.88C318.38,-493.78 310.36,-481.37 303.12,-470.18\"/>\n<polygon fill=\"black\" stroke=\"black\" points=\"305.88,-468.01 297.51,-461.52 300.01,-471.82 305.88,-468.01\"/>\n</g>\n<!-- 11 -->\n<g id=\"node12\" class=\"node\">\n<title>11</title>\n<polygon fill=\"#7bbeee\" stroke=\"black\" points=\"461,-469 347,-469 347,-401 461,-401 461,-469\"/>\n<text text-anchor=\"middle\" x=\"404\" y=\"-453.8\" font-family=\"Helvetica,sans-Serif\" font-size=\"14.00\">oldpeak &lt;= 0.85</text>\n<text text-anchor=\"middle\" x=\"404\" y=\"-438.8\" font-family=\"Helvetica,sans-Serif\" font-size=\"14.00\">gini = 0.375</text>\n<text text-anchor=\"middle\" x=\"404\" y=\"-423.8\" font-family=\"Helvetica,sans-Serif\" font-size=\"14.00\">samples = 4</text>\n<text text-anchor=\"middle\" x=\"404\" y=\"-408.8\" font-family=\"Helvetica,sans-Serif\" font-size=\"14.00\">value = [1, 3]</text>\n</g>\n<!-- 9&#45;&gt;11 -->\n<g id=\"edge11\" class=\"edge\">\n<title>9&#45;&gt;11</title>\n<path fill=\"none\" stroke=\"black\" d=\"M365.51,-504.88C370.28,-496.33 375.49,-487.01 380.49,-478.07\"/>\n<polygon fill=\"black\" stroke=\"black\" points=\"383.57,-479.74 385.39,-469.3 377.46,-476.32 383.57,-479.74\"/>\n</g>\n<!-- 12 -->\n<g id=\"node13\" class=\"node\">\n<title>12</title>\n<polygon fill=\"#399de5\" stroke=\"black\" points=\"338.5,-357.5 243.5,-357.5 243.5,-304.5 338.5,-304.5 338.5,-357.5\"/>\n<text text-anchor=\"middle\" x=\"291\" y=\"-342.3\" font-family=\"Helvetica,sans-Serif\" font-size=\"14.00\">gini = 0.0</text>\n<text text-anchor=\"middle\" x=\"291\" y=\"-327.3\" font-family=\"Helvetica,sans-Serif\" font-size=\"14.00\">samples = 3</text>\n<text text-anchor=\"middle\" x=\"291\" y=\"-312.3\" font-family=\"Helvetica,sans-Serif\" font-size=\"14.00\">value = [0, 3]</text>\n</g>\n<!-- 11&#45;&gt;12 -->\n<g id=\"edge12\" class=\"edge\">\n<title>11&#45;&gt;12</title>\n<path fill=\"none\" stroke=\"black\" d=\"M367.31,-400.88C354.4,-389.23 339.9,-376.14 327.04,-364.53\"/>\n<polygon fill=\"black\" stroke=\"black\" points=\"329.04,-361.62 319.27,-357.52 324.35,-366.82 329.04,-361.62\"/>\n</g>\n<!-- 13 -->\n<g id=\"node14\" class=\"node\">\n<title>13</title>\n<polygon fill=\"#e58139\" stroke=\"black\" points=\"451.5,-357.5 356.5,-357.5 356.5,-304.5 451.5,-304.5 451.5,-357.5\"/>\n<text text-anchor=\"middle\" x=\"404\" y=\"-342.3\" font-family=\"Helvetica,sans-Serif\" font-size=\"14.00\">gini = 0.0</text>\n<text text-anchor=\"middle\" x=\"404\" y=\"-327.3\" font-family=\"Helvetica,sans-Serif\" font-size=\"14.00\">samples = 1</text>\n<text text-anchor=\"middle\" x=\"404\" y=\"-312.3\" font-family=\"Helvetica,sans-Serif\" font-size=\"14.00\">value = [1, 0]</text>\n</g>\n<!-- 11&#45;&gt;13 -->\n<g id=\"edge13\" class=\"edge\">\n<title>11&#45;&gt;13</title>\n<path fill=\"none\" stroke=\"black\" d=\"M404,-400.88C404,-390.33 404,-378.6 404,-367.85\"/>\n<polygon fill=\"black\" stroke=\"black\" points=\"407.5,-367.52 404,-357.52 400.5,-367.52 407.5,-367.52\"/>\n</g>\n<!-- 15 -->\n<g id=\"node16\" class=\"node\">\n<title>15</title>\n<polygon fill=\"#d7ebfa\" stroke=\"black\" points=\"783.5,-573 688.5,-573 688.5,-505 783.5,-505 783.5,-573\"/>\n<text text-anchor=\"middle\" x=\"736\" y=\"-557.8\" font-family=\"Helvetica,sans-Serif\" font-size=\"14.00\">slp &lt;= 1.5</text>\n<text text-anchor=\"middle\" x=\"736\" y=\"-542.8\" font-family=\"Helvetica,sans-Serif\" font-size=\"14.00\">gini = 0.494</text>\n<text text-anchor=\"middle\" x=\"736\" y=\"-527.8\" font-family=\"Helvetica,sans-Serif\" font-size=\"14.00\">samples = 9</text>\n<text text-anchor=\"middle\" x=\"736\" y=\"-512.8\" font-family=\"Helvetica,sans-Serif\" font-size=\"14.00\">value = [4, 5]</text>\n</g>\n<!-- 14&#45;&gt;15 -->\n<g id=\"edge15\" class=\"edge\">\n<title>14&#45;&gt;15</title>\n<path fill=\"none\" stroke=\"black\" d=\"M776.52,-608.88C771.49,-600.33 766.01,-591.01 760.75,-582.07\"/>\n<polygon fill=\"black\" stroke=\"black\" points=\"763.67,-580.14 755.59,-573.3 757.64,-583.69 763.67,-580.14\"/>\n</g>\n<!-- 22 -->\n<g id=\"node23\" class=\"node\">\n<title>22</title>\n<polygon fill=\"#e78945\" stroke=\"black\" points=\"910,-573 802,-573 802,-505 910,-505 910,-573\"/>\n<text text-anchor=\"middle\" x=\"856\" y=\"-557.8\" font-family=\"Helvetica,sans-Serif\" font-size=\"14.00\">trtbps &lt;= 115.0</text>\n<text text-anchor=\"middle\" x=\"856\" y=\"-542.8\" font-family=\"Helvetica,sans-Serif\" font-size=\"14.00\">gini = 0.111</text>\n<text text-anchor=\"middle\" x=\"856\" y=\"-527.8\" font-family=\"Helvetica,sans-Serif\" font-size=\"14.00\">samples = 17</text>\n<text text-anchor=\"middle\" x=\"856\" y=\"-512.8\" font-family=\"Helvetica,sans-Serif\" font-size=\"14.00\">value = [16, 1]</text>\n</g>\n<!-- 14&#45;&gt;22 -->\n<g id=\"edge22\" class=\"edge\">\n<title>14&#45;&gt;22</title>\n<path fill=\"none\" stroke=\"black\" d=\"M815.48,-608.88C820.51,-600.33 825.99,-591.01 831.25,-582.07\"/>\n<polygon fill=\"black\" stroke=\"black\" points=\"834.36,-583.69 836.41,-573.3 828.33,-580.14 834.36,-583.69\"/>\n</g>\n<!-- 16 -->\n<g id=\"node17\" class=\"node\">\n<title>16</title>\n<polygon fill=\"#eeab7b\" stroke=\"black\" points=\"677,-469 573,-469 573,-401 677,-401 677,-469\"/>\n<text text-anchor=\"middle\" x=\"625\" y=\"-453.8\" font-family=\"Helvetica,sans-Serif\" font-size=\"14.00\">restecg &lt;= 0.5</text>\n<text text-anchor=\"middle\" x=\"625\" y=\"-438.8\" font-family=\"Helvetica,sans-Serif\" font-size=\"14.00\">gini = 0.375</text>\n<text text-anchor=\"middle\" x=\"625\" y=\"-423.8\" font-family=\"Helvetica,sans-Serif\" font-size=\"14.00\">samples = 4</text>\n<text text-anchor=\"middle\" x=\"625\" y=\"-408.8\" font-family=\"Helvetica,sans-Serif\" font-size=\"14.00\">value = [3, 1]</text>\n</g>\n<!-- 15&#45;&gt;16 -->\n<g id=\"edge16\" class=\"edge\">\n<title>15&#45;&gt;16</title>\n<path fill=\"none\" stroke=\"black\" d=\"M699.96,-504.88C689.98,-495.71 679.03,-485.65 668.66,-476.12\"/>\n<polygon fill=\"black\" stroke=\"black\" points=\"670.97,-473.49 661.24,-469.3 666.23,-478.64 670.97,-473.49\"/>\n</g>\n<!-- 19 -->\n<g id=\"node20\" class=\"node\">\n<title>19</title>\n<polygon fill=\"#6ab6ec\" stroke=\"black\" points=\"790.5,-469 695.5,-469 695.5,-401 790.5,-401 790.5,-469\"/>\n<text text-anchor=\"middle\" x=\"743\" y=\"-453.8\" font-family=\"Helvetica,sans-Serif\" font-size=\"14.00\">age &lt;= 44.0</text>\n<text text-anchor=\"middle\" x=\"743\" y=\"-438.8\" font-family=\"Helvetica,sans-Serif\" font-size=\"14.00\">gini = 0.32</text>\n<text text-anchor=\"middle\" x=\"743\" y=\"-423.8\" font-family=\"Helvetica,sans-Serif\" font-size=\"14.00\">samples = 5</text>\n<text text-anchor=\"middle\" x=\"743\" y=\"-408.8\" font-family=\"Helvetica,sans-Serif\" font-size=\"14.00\">value = [1, 4]</text>\n</g>\n<!-- 15&#45;&gt;19 -->\n<g id=\"edge19\" class=\"edge\">\n<title>15&#45;&gt;19</title>\n<path fill=\"none\" stroke=\"black\" d=\"M738.27,-504.88C738.83,-496.78 739.43,-487.98 740.02,-479.47\"/>\n<polygon fill=\"black\" stroke=\"black\" points=\"743.52,-479.52 740.71,-469.3 736.54,-479.04 743.52,-479.52\"/>\n</g>\n<!-- 17 -->\n<g id=\"node18\" class=\"node\">\n<title>17</title>\n<polygon fill=\"#399de5\" stroke=\"black\" points=\"564.5,-357.5 469.5,-357.5 469.5,-304.5 564.5,-304.5 564.5,-357.5\"/>\n<text text-anchor=\"middle\" x=\"517\" y=\"-342.3\" font-family=\"Helvetica,sans-Serif\" font-size=\"14.00\">gini = 0.0</text>\n<text text-anchor=\"middle\" x=\"517\" y=\"-327.3\" font-family=\"Helvetica,sans-Serif\" font-size=\"14.00\">samples = 1</text>\n<text text-anchor=\"middle\" x=\"517\" y=\"-312.3\" font-family=\"Helvetica,sans-Serif\" font-size=\"14.00\">value = [0, 1]</text>\n</g>\n<!-- 16&#45;&gt;17 -->\n<g id=\"edge17\" class=\"edge\">\n<title>16&#45;&gt;17</title>\n<path fill=\"none\" stroke=\"black\" d=\"M589.94,-400.88C577.59,-389.23 563.74,-376.14 551.45,-364.53\"/>\n<polygon fill=\"black\" stroke=\"black\" points=\"553.69,-361.84 544.02,-357.52 548.89,-366.93 553.69,-361.84\"/>\n</g>\n<!-- 18 -->\n<g id=\"node19\" class=\"node\">\n<title>18</title>\n<polygon fill=\"#e58139\" stroke=\"black\" points=\"677.5,-357.5 582.5,-357.5 582.5,-304.5 677.5,-304.5 677.5,-357.5\"/>\n<text text-anchor=\"middle\" x=\"630\" y=\"-342.3\" font-family=\"Helvetica,sans-Serif\" font-size=\"14.00\">gini = 0.0</text>\n<text text-anchor=\"middle\" x=\"630\" y=\"-327.3\" font-family=\"Helvetica,sans-Serif\" font-size=\"14.00\">samples = 3</text>\n<text text-anchor=\"middle\" x=\"630\" y=\"-312.3\" font-family=\"Helvetica,sans-Serif\" font-size=\"14.00\">value = [3, 0]</text>\n</g>\n<!-- 16&#45;&gt;18 -->\n<g id=\"edge18\" class=\"edge\">\n<title>16&#45;&gt;18</title>\n<path fill=\"none\" stroke=\"black\" d=\"M626.62,-400.88C627.15,-390.22 627.73,-378.35 628.26,-367.52\"/>\n<polygon fill=\"black\" stroke=\"black\" points=\"631.76,-367.68 628.75,-357.52 624.76,-367.34 631.76,-367.68\"/>\n</g>\n<!-- 20 -->\n<g id=\"node21\" class=\"node\">\n<title>20</title>\n<polygon fill=\"#e58139\" stroke=\"black\" points=\"790.5,-357.5 695.5,-357.5 695.5,-304.5 790.5,-304.5 790.5,-357.5\"/>\n<text text-anchor=\"middle\" x=\"743\" y=\"-342.3\" font-family=\"Helvetica,sans-Serif\" font-size=\"14.00\">gini = 0.0</text>\n<text text-anchor=\"middle\" x=\"743\" y=\"-327.3\" font-family=\"Helvetica,sans-Serif\" font-size=\"14.00\">samples = 1</text>\n<text text-anchor=\"middle\" x=\"743\" y=\"-312.3\" font-family=\"Helvetica,sans-Serif\" font-size=\"14.00\">value = [1, 0]</text>\n</g>\n<!-- 19&#45;&gt;20 -->\n<g id=\"edge20\" class=\"edge\">\n<title>19&#45;&gt;20</title>\n<path fill=\"none\" stroke=\"black\" d=\"M743,-400.88C743,-390.33 743,-378.6 743,-367.85\"/>\n<polygon fill=\"black\" stroke=\"black\" points=\"746.5,-367.52 743,-357.52 739.5,-367.52 746.5,-367.52\"/>\n</g>\n<!-- 21 -->\n<g id=\"node22\" class=\"node\">\n<title>21</title>\n<polygon fill=\"#399de5\" stroke=\"black\" points=\"903.5,-357.5 808.5,-357.5 808.5,-304.5 903.5,-304.5 903.5,-357.5\"/>\n<text text-anchor=\"middle\" x=\"856\" y=\"-342.3\" font-family=\"Helvetica,sans-Serif\" font-size=\"14.00\">gini = 0.0</text>\n<text text-anchor=\"middle\" x=\"856\" y=\"-327.3\" font-family=\"Helvetica,sans-Serif\" font-size=\"14.00\">samples = 4</text>\n<text text-anchor=\"middle\" x=\"856\" y=\"-312.3\" font-family=\"Helvetica,sans-Serif\" font-size=\"14.00\">value = [0, 4]</text>\n</g>\n<!-- 19&#45;&gt;21 -->\n<g id=\"edge21\" class=\"edge\">\n<title>19&#45;&gt;21</title>\n<path fill=\"none\" stroke=\"black\" d=\"M779.69,-400.88C792.6,-389.23 807.1,-376.14 819.96,-364.53\"/>\n<polygon fill=\"black\" stroke=\"black\" points=\"822.65,-366.82 827.73,-357.52 817.96,-361.62 822.65,-366.82\"/>\n</g>\n<!-- 23 -->\n<g id=\"node24\" class=\"node\">\n<title>23</title>\n<polygon fill=\"#399de5\" stroke=\"black\" points=\"903.5,-461.5 808.5,-461.5 808.5,-408.5 903.5,-408.5 903.5,-461.5\"/>\n<text text-anchor=\"middle\" x=\"856\" y=\"-446.3\" font-family=\"Helvetica,sans-Serif\" font-size=\"14.00\">gini = 0.0</text>\n<text text-anchor=\"middle\" x=\"856\" y=\"-431.3\" font-family=\"Helvetica,sans-Serif\" font-size=\"14.00\">samples = 1</text>\n<text text-anchor=\"middle\" x=\"856\" y=\"-416.3\" font-family=\"Helvetica,sans-Serif\" font-size=\"14.00\">value = [0, 1]</text>\n</g>\n<!-- 22&#45;&gt;23 -->\n<g id=\"edge23\" class=\"edge\">\n<title>22&#45;&gt;23</title>\n<path fill=\"none\" stroke=\"black\" d=\"M856,-504.88C856,-494.33 856,-482.6 856,-471.85\"/>\n<polygon fill=\"black\" stroke=\"black\" points=\"859.5,-471.52 856,-461.52 852.5,-471.52 859.5,-471.52\"/>\n</g>\n<!-- 24 -->\n<g id=\"node25\" class=\"node\">\n<title>24</title>\n<polygon fill=\"#e58139\" stroke=\"black\" points=\"1024,-461.5 922,-461.5 922,-408.5 1024,-408.5 1024,-461.5\"/>\n<text text-anchor=\"middle\" x=\"973\" y=\"-446.3\" font-family=\"Helvetica,sans-Serif\" font-size=\"14.00\">gini = 0.0</text>\n<text text-anchor=\"middle\" x=\"973\" y=\"-431.3\" font-family=\"Helvetica,sans-Serif\" font-size=\"14.00\">samples = 16</text>\n<text text-anchor=\"middle\" x=\"973\" y=\"-416.3\" font-family=\"Helvetica,sans-Serif\" font-size=\"14.00\">value = [16, 0]</text>\n</g>\n<!-- 22&#45;&gt;24 -->\n<g id=\"edge24\" class=\"edge\">\n<title>22&#45;&gt;24</title>\n<path fill=\"none\" stroke=\"black\" d=\"M893.99,-504.88C907.48,-493.12 922.65,-479.89 936.06,-468.2\"/>\n<polygon fill=\"black\" stroke=\"black\" points=\"938.49,-470.73 943.73,-461.52 933.89,-465.45 938.49,-470.73\"/>\n</g>\n<!-- 26 -->\n<g id=\"node27\" class=\"node\">\n<title>26</title>\n<polygon fill=\"#f6d5bd\" stroke=\"black\" points=\"1137.5,-677 1038.5,-677 1038.5,-609 1137.5,-609 1137.5,-677\"/>\n<text text-anchor=\"middle\" x=\"1088\" y=\"-661.8\" font-family=\"Helvetica,sans-Serif\" font-size=\"14.00\">chol &lt;= 233.5</text>\n<text text-anchor=\"middle\" x=\"1088\" y=\"-646.8\" font-family=\"Helvetica,sans-Serif\" font-size=\"14.00\">gini = 0.48</text>\n<text text-anchor=\"middle\" x=\"1088\" y=\"-631.8\" font-family=\"Helvetica,sans-Serif\" font-size=\"14.00\">samples = 5</text>\n<text text-anchor=\"middle\" x=\"1088\" y=\"-616.8\" font-family=\"Helvetica,sans-Serif\" font-size=\"14.00\">value = [3, 2]</text>\n</g>\n<!-- 25&#45;&gt;26 -->\n<g id=\"edge26\" class=\"edge\">\n<title>25&#45;&gt;26</title>\n<path fill=\"none\" stroke=\"black\" d=\"M1127.84,-712.88C1122.9,-704.33 1117.51,-695.01 1112.34,-686.07\"/>\n<polygon fill=\"black\" stroke=\"black\" points=\"1115.3,-684.2 1107.26,-677.3 1109.24,-687.71 1115.3,-684.2\"/>\n</g>\n<!-- 29 -->\n<g id=\"node30\" class=\"node\">\n<title>29</title>\n<polygon fill=\"#e68641\" stroke=\"black\" points=\"1258,-677 1156,-677 1156,-609 1258,-609 1258,-677\"/>\n<text text-anchor=\"middle\" x=\"1207\" y=\"-661.8\" font-family=\"Helvetica,sans-Serif\" font-size=\"14.00\">chol &lt;= 300.5</text>\n<text text-anchor=\"middle\" x=\"1207\" y=\"-646.8\" font-family=\"Helvetica,sans-Serif\" font-size=\"14.00\">gini = 0.074</text>\n<text text-anchor=\"middle\" x=\"1207\" y=\"-631.8\" font-family=\"Helvetica,sans-Serif\" font-size=\"14.00\">samples = 52</text>\n<text text-anchor=\"middle\" x=\"1207\" y=\"-616.8\" font-family=\"Helvetica,sans-Serif\" font-size=\"14.00\">value = [50, 2]</text>\n</g>\n<!-- 25&#45;&gt;29 -->\n<g id=\"edge29\" class=\"edge\">\n<title>25&#45;&gt;29</title>\n<path fill=\"none\" stroke=\"black\" d=\"M1166.48,-712.88C1171.51,-704.33 1176.99,-695.01 1182.25,-686.07\"/>\n<polygon fill=\"black\" stroke=\"black\" points=\"1185.36,-687.69 1187.41,-677.3 1179.33,-684.14 1185.36,-687.69\"/>\n</g>\n<!-- 27 -->\n<g id=\"node28\" class=\"node\">\n<title>27</title>\n<polygon fill=\"#399de5\" stroke=\"black\" points=\"1023.5,-565.5 928.5,-565.5 928.5,-512.5 1023.5,-512.5 1023.5,-565.5\"/>\n<text text-anchor=\"middle\" x=\"976\" y=\"-550.3\" font-family=\"Helvetica,sans-Serif\" font-size=\"14.00\">gini = 0.0</text>\n<text text-anchor=\"middle\" x=\"976\" y=\"-535.3\" font-family=\"Helvetica,sans-Serif\" font-size=\"14.00\">samples = 2</text>\n<text text-anchor=\"middle\" x=\"976\" y=\"-520.3\" font-family=\"Helvetica,sans-Serif\" font-size=\"14.00\">value = [0, 2]</text>\n</g>\n<!-- 26&#45;&gt;27 -->\n<g id=\"edge27\" class=\"edge\">\n<title>26&#45;&gt;27</title>\n<path fill=\"none\" stroke=\"black\" d=\"M1051.64,-608.88C1038.84,-597.23 1024.47,-584.14 1011.72,-572.53\"/>\n<polygon fill=\"black\" stroke=\"black\" points=\"1013.77,-569.67 1004.02,-565.52 1009.06,-574.84 1013.77,-569.67\"/>\n</g>\n<!-- 28 -->\n<g id=\"node29\" class=\"node\">\n<title>28</title>\n<polygon fill=\"#e58139\" stroke=\"black\" points=\"1136.5,-565.5 1041.5,-565.5 1041.5,-512.5 1136.5,-512.5 1136.5,-565.5\"/>\n<text text-anchor=\"middle\" x=\"1089\" y=\"-550.3\" font-family=\"Helvetica,sans-Serif\" font-size=\"14.00\">gini = 0.0</text>\n<text text-anchor=\"middle\" x=\"1089\" y=\"-535.3\" font-family=\"Helvetica,sans-Serif\" font-size=\"14.00\">samples = 3</text>\n<text text-anchor=\"middle\" x=\"1089\" y=\"-520.3\" font-family=\"Helvetica,sans-Serif\" font-size=\"14.00\">value = [3, 0]</text>\n</g>\n<!-- 26&#45;&gt;28 -->\n<g id=\"edge28\" class=\"edge\">\n<title>26&#45;&gt;28</title>\n<path fill=\"none\" stroke=\"black\" d=\"M1088.32,-608.88C1088.43,-598.33 1088.54,-586.6 1088.65,-575.85\"/>\n<polygon fill=\"black\" stroke=\"black\" points=\"1092.15,-575.55 1088.75,-565.52 1085.15,-575.49 1092.15,-575.55\"/>\n</g>\n<!-- 30 -->\n<g id=\"node31\" class=\"node\">\n<title>30</title>\n<polygon fill=\"#e58139\" stroke=\"black\" points=\"1257,-565.5 1155,-565.5 1155,-512.5 1257,-512.5 1257,-565.5\"/>\n<text text-anchor=\"middle\" x=\"1206\" y=\"-550.3\" font-family=\"Helvetica,sans-Serif\" font-size=\"14.00\">gini = 0.0</text>\n<text text-anchor=\"middle\" x=\"1206\" y=\"-535.3\" font-family=\"Helvetica,sans-Serif\" font-size=\"14.00\">samples = 43</text>\n<text text-anchor=\"middle\" x=\"1206\" y=\"-520.3\" font-family=\"Helvetica,sans-Serif\" font-size=\"14.00\">value = [43, 0]</text>\n</g>\n<!-- 29&#45;&gt;30 -->\n<g id=\"edge30\" class=\"edge\">\n<title>29&#45;&gt;30</title>\n<path fill=\"none\" stroke=\"black\" d=\"M1206.68,-608.88C1206.57,-598.33 1206.46,-586.6 1206.35,-575.85\"/>\n<polygon fill=\"black\" stroke=\"black\" points=\"1209.85,-575.49 1206.25,-565.52 1202.85,-575.55 1209.85,-575.49\"/>\n</g>\n<!-- 31 -->\n<g id=\"node32\" class=\"node\">\n<title>31</title>\n<polygon fill=\"#eca572\" stroke=\"black\" points=\"1374.5,-573 1275.5,-573 1275.5,-505 1374.5,-505 1374.5,-573\"/>\n<text text-anchor=\"middle\" x=\"1325\" y=\"-557.8\" font-family=\"Helvetica,sans-Serif\" font-size=\"14.00\">chol &lt;= 303.5</text>\n<text text-anchor=\"middle\" x=\"1325\" y=\"-542.8\" font-family=\"Helvetica,sans-Serif\" font-size=\"14.00\">gini = 0.346</text>\n<text text-anchor=\"middle\" x=\"1325\" y=\"-527.8\" font-family=\"Helvetica,sans-Serif\" font-size=\"14.00\">samples = 9</text>\n<text text-anchor=\"middle\" x=\"1325\" y=\"-512.8\" font-family=\"Helvetica,sans-Serif\" font-size=\"14.00\">value = [7, 2]</text>\n</g>\n<!-- 29&#45;&gt;31 -->\n<g id=\"edge31\" class=\"edge\">\n<title>29&#45;&gt;31</title>\n<path fill=\"none\" stroke=\"black\" d=\"M1245.31,-608.88C1256.03,-599.62 1267.79,-589.45 1278.9,-579.85\"/>\n<polygon fill=\"black\" stroke=\"black\" points=\"1281.2,-582.49 1286.48,-573.3 1276.62,-577.19 1281.2,-582.49\"/>\n</g>\n<!-- 32 -->\n<g id=\"node33\" class=\"node\">\n<title>32</title>\n<polygon fill=\"#399de5\" stroke=\"black\" points=\"1259.5,-461.5 1164.5,-461.5 1164.5,-408.5 1259.5,-408.5 1259.5,-461.5\"/>\n<text text-anchor=\"middle\" x=\"1212\" y=\"-446.3\" font-family=\"Helvetica,sans-Serif\" font-size=\"14.00\">gini = 0.0</text>\n<text text-anchor=\"middle\" x=\"1212\" y=\"-431.3\" font-family=\"Helvetica,sans-Serif\" font-size=\"14.00\">samples = 2</text>\n<text text-anchor=\"middle\" x=\"1212\" y=\"-416.3\" font-family=\"Helvetica,sans-Serif\" font-size=\"14.00\">value = [0, 2]</text>\n</g>\n<!-- 31&#45;&gt;32 -->\n<g id=\"edge32\" class=\"edge\">\n<title>31&#45;&gt;32</title>\n<path fill=\"none\" stroke=\"black\" d=\"M1288.31,-504.88C1275.4,-493.23 1260.9,-480.14 1248.04,-468.53\"/>\n<polygon fill=\"black\" stroke=\"black\" points=\"1250.04,-465.62 1240.27,-461.52 1245.35,-470.82 1250.04,-465.62\"/>\n</g>\n<!-- 33 -->\n<g id=\"node34\" class=\"node\">\n<title>33</title>\n<polygon fill=\"#e58139\" stroke=\"black\" points=\"1372.5,-461.5 1277.5,-461.5 1277.5,-408.5 1372.5,-408.5 1372.5,-461.5\"/>\n<text text-anchor=\"middle\" x=\"1325\" y=\"-446.3\" font-family=\"Helvetica,sans-Serif\" font-size=\"14.00\">gini = 0.0</text>\n<text text-anchor=\"middle\" x=\"1325\" y=\"-431.3\" font-family=\"Helvetica,sans-Serif\" font-size=\"14.00\">samples = 7</text>\n<text text-anchor=\"middle\" x=\"1325\" y=\"-416.3\" font-family=\"Helvetica,sans-Serif\" font-size=\"14.00\">value = [7, 0]</text>\n</g>\n<!-- 31&#45;&gt;33 -->\n<g id=\"edge33\" class=\"edge\">\n<title>31&#45;&gt;33</title>\n<path fill=\"none\" stroke=\"black\" d=\"M1325,-504.88C1325,-494.33 1325,-482.6 1325,-471.85\"/>\n<polygon fill=\"black\" stroke=\"black\" points=\"1328.5,-471.52 1325,-461.52 1321.5,-471.52 1328.5,-471.52\"/>\n</g>\n<!-- 35 -->\n<g id=\"node36\" class=\"node\">\n<title>35</title>\n<polygon fill=\"#65b3eb\" stroke=\"black\" points=\"1762,-781 1652,-781 1652,-713 1762,-713 1762,-781\"/>\n<text text-anchor=\"middle\" x=\"1707\" y=\"-765.8\" font-family=\"Helvetica,sans-Serif\" font-size=\"14.00\">age &lt;= 56.5</text>\n<text text-anchor=\"middle\" x=\"1707\" y=\"-750.8\" font-family=\"Helvetica,sans-Serif\" font-size=\"14.00\">gini = 0.298</text>\n<text text-anchor=\"middle\" x=\"1707\" y=\"-735.8\" font-family=\"Helvetica,sans-Serif\" font-size=\"14.00\">samples = 121</text>\n<text text-anchor=\"middle\" x=\"1707\" y=\"-720.8\" font-family=\"Helvetica,sans-Serif\" font-size=\"14.00\">value = [22, 99]</text>\n</g>\n<!-- 34&#45;&gt;35 -->\n<g id=\"edge35\" class=\"edge\">\n<title>34&#45;&gt;35</title>\n<path fill=\"none\" stroke=\"black\" d=\"M1707,-816.88C1707,-808.78 1707,-799.98 1707,-791.47\"/>\n<polygon fill=\"black\" stroke=\"black\" points=\"1710.5,-791.3 1707,-781.3 1703.5,-791.3 1710.5,-791.3\"/>\n</g>\n<!-- 76 -->\n<g id=\"node77\" class=\"node\">\n<title>76</title>\n<polygon fill=\"#eb9d65\" stroke=\"black\" points=\"1941,-781 1843,-781 1843,-713 1941,-713 1941,-781\"/>\n<text text-anchor=\"middle\" x=\"1892\" y=\"-765.8\" font-family=\"Helvetica,sans-Serif\" font-size=\"14.00\">slp &lt;= 0.5</text>\n<text text-anchor=\"middle\" x=\"1892\" y=\"-750.8\" font-family=\"Helvetica,sans-Serif\" font-size=\"14.00\">gini = 0.298</text>\n<text text-anchor=\"middle\" x=\"1892\" y=\"-735.8\" font-family=\"Helvetica,sans-Serif\" font-size=\"14.00\">samples = 11</text>\n<text text-anchor=\"middle\" x=\"1892\" y=\"-720.8\" font-family=\"Helvetica,sans-Serif\" font-size=\"14.00\">value = [9, 2]</text>\n</g>\n<!-- 34&#45;&gt;76 -->\n<g id=\"edge76\" class=\"edge\">\n<title>34&#45;&gt;76</title>\n<path fill=\"none\" stroke=\"black\" d=\"M1765.54,-817.73C1787.4,-805.67 1812.2,-792 1834.02,-779.97\"/>\n<polygon fill=\"black\" stroke=\"black\" points=\"1835.78,-782.99 1842.85,-775.1 1832.4,-776.86 1835.78,-782.99\"/>\n</g>\n<!-- 36 -->\n<g id=\"node37\" class=\"node\">\n<title>36</title>\n<polygon fill=\"#4ca7e8\" stroke=\"black\" points=\"1698,-677 1590,-677 1590,-609 1698,-609 1698,-677\"/>\n<text text-anchor=\"middle\" x=\"1644\" y=\"-661.8\" font-family=\"Helvetica,sans-Serif\" font-size=\"14.00\">trtbps &lt;= 182.0</text>\n<text text-anchor=\"middle\" x=\"1644\" y=\"-646.8\" font-family=\"Helvetica,sans-Serif\" font-size=\"14.00\">gini = 0.162</text>\n<text text-anchor=\"middle\" x=\"1644\" y=\"-631.8\" font-family=\"Helvetica,sans-Serif\" font-size=\"14.00\">samples = 79</text>\n<text text-anchor=\"middle\" x=\"1644\" y=\"-616.8\" font-family=\"Helvetica,sans-Serif\" font-size=\"14.00\">value = [7, 72]</text>\n</g>\n<!-- 35&#45;&gt;36 -->\n<g id=\"edge36\" class=\"edge\">\n<title>35&#45;&gt;36</title>\n<path fill=\"none\" stroke=\"black\" d=\"M1686.55,-712.88C1681.26,-704.33 1675.51,-695.01 1669.99,-686.07\"/>\n<polygon fill=\"black\" stroke=\"black\" points=\"1672.8,-683.97 1664.57,-677.3 1666.84,-687.65 1672.8,-683.97\"/>\n</g>\n<!-- 57 -->\n<g id=\"node58\" class=\"node\">\n<title>57</title>\n<polygon fill=\"#a7d3f3\" stroke=\"black\" points=\"1826,-677 1716,-677 1716,-609 1826,-609 1826,-677\"/>\n<text text-anchor=\"middle\" x=\"1771\" y=\"-661.8\" font-family=\"Helvetica,sans-Serif\" font-size=\"14.00\">age &lt;= 57.5</text>\n<text text-anchor=\"middle\" x=\"1771\" y=\"-646.8\" font-family=\"Helvetica,sans-Serif\" font-size=\"14.00\">gini = 0.459</text>\n<text text-anchor=\"middle\" x=\"1771\" y=\"-631.8\" font-family=\"Helvetica,sans-Serif\" font-size=\"14.00\">samples = 42</text>\n<text text-anchor=\"middle\" x=\"1771\" y=\"-616.8\" font-family=\"Helvetica,sans-Serif\" font-size=\"14.00\">value = [15, 27]</text>\n</g>\n<!-- 35&#45;&gt;57 -->\n<g id=\"edge57\" class=\"edge\">\n<title>35&#45;&gt;57</title>\n<path fill=\"none\" stroke=\"black\" d=\"M1727.78,-712.88C1733.2,-704.24 1739.11,-694.82 1744.78,-685.79\"/>\n<polygon fill=\"black\" stroke=\"black\" points=\"1747.76,-687.63 1750.11,-677.3 1741.83,-683.91 1747.76,-687.63\"/>\n</g>\n<!-- 37 -->\n<g id=\"node38\" class=\"node\">\n<title>37</title>\n<polygon fill=\"#49a5e7\" stroke=\"black\" points=\"1585.5,-573 1460.5,-573 1460.5,-505 1585.5,-505 1585.5,-573\"/>\n<text text-anchor=\"middle\" x=\"1523\" y=\"-557.8\" font-family=\"Helvetica,sans-Serif\" font-size=\"14.00\">thalachh &lt;= 142.5</text>\n<text text-anchor=\"middle\" x=\"1523\" y=\"-542.8\" font-family=\"Helvetica,sans-Serif\" font-size=\"14.00\">gini = 0.142</text>\n<text text-anchor=\"middle\" x=\"1523\" y=\"-527.8\" font-family=\"Helvetica,sans-Serif\" font-size=\"14.00\">samples = 78</text>\n<text text-anchor=\"middle\" x=\"1523\" y=\"-512.8\" font-family=\"Helvetica,sans-Serif\" font-size=\"14.00\">value = [6, 72]</text>\n</g>\n<!-- 36&#45;&gt;37 -->\n<g id=\"edge37\" class=\"edge\">\n<title>36&#45;&gt;37</title>\n<path fill=\"none\" stroke=\"black\" d=\"M1604.71,-608.88C1593.73,-599.62 1581.67,-589.45 1570.27,-579.85\"/>\n<polygon fill=\"black\" stroke=\"black\" points=\"1572.4,-577.07 1562.5,-573.3 1567.89,-582.42 1572.4,-577.07\"/>\n</g>\n<!-- 56 -->\n<g id=\"node57\" class=\"node\">\n<title>56</title>\n<polygon fill=\"#e58139\" stroke=\"black\" points=\"1698.5,-565.5 1603.5,-565.5 1603.5,-512.5 1698.5,-512.5 1698.5,-565.5\"/>\n<text text-anchor=\"middle\" x=\"1651\" y=\"-550.3\" font-family=\"Helvetica,sans-Serif\" font-size=\"14.00\">gini = 0.0</text>\n<text text-anchor=\"middle\" x=\"1651\" y=\"-535.3\" font-family=\"Helvetica,sans-Serif\" font-size=\"14.00\">samples = 1</text>\n<text text-anchor=\"middle\" x=\"1651\" y=\"-520.3\" font-family=\"Helvetica,sans-Serif\" font-size=\"14.00\">value = [1, 0]</text>\n</g>\n<!-- 36&#45;&gt;56 -->\n<g id=\"edge56\" class=\"edge\">\n<title>36&#45;&gt;56</title>\n<path fill=\"none\" stroke=\"black\" d=\"M1646.27,-608.88C1647,-598.22 1647.82,-586.35 1648.56,-575.52\"/>\n<polygon fill=\"black\" stroke=\"black\" points=\"1652.06,-575.74 1649.25,-565.52 1645.07,-575.26 1652.06,-575.74\"/>\n</g>\n<!-- 38 -->\n<g id=\"node39\" class=\"node\">\n<title>38</title>\n<polygon fill=\"#9ccef2\" stroke=\"black\" points=\"1485.5,-469 1390.5,-469 1390.5,-401 1485.5,-401 1485.5,-469\"/>\n<text text-anchor=\"middle\" x=\"1438\" y=\"-453.8\" font-family=\"Helvetica,sans-Serif\" font-size=\"14.00\">sex &lt;= 0.5</text>\n<text text-anchor=\"middle\" x=\"1438\" y=\"-438.8\" font-family=\"Helvetica,sans-Serif\" font-size=\"14.00\">gini = 0.444</text>\n<text text-anchor=\"middle\" x=\"1438\" y=\"-423.8\" font-family=\"Helvetica,sans-Serif\" font-size=\"14.00\">samples = 9</text>\n<text text-anchor=\"middle\" x=\"1438\" y=\"-408.8\" font-family=\"Helvetica,sans-Serif\" font-size=\"14.00\">value = [3, 6]</text>\n</g>\n<!-- 37&#45;&gt;38 -->\n<g id=\"edge38\" class=\"edge\">\n<title>37&#45;&gt;38</title>\n<path fill=\"none\" stroke=\"black\" d=\"M1495.4,-504.88C1488.05,-496.07 1480.03,-486.43 1472.36,-477.24\"/>\n<polygon fill=\"black\" stroke=\"black\" points=\"1474.84,-474.74 1465.75,-469.3 1469.46,-479.22 1474.84,-474.74\"/>\n</g>\n<!-- 43 -->\n<g id=\"node44\" class=\"node\">\n<title>43</title>\n<polygon fill=\"#42a1e6\" stroke=\"black\" points=\"1645,-469 1537,-469 1537,-401 1645,-401 1645,-469\"/>\n<text text-anchor=\"middle\" x=\"1591\" y=\"-453.8\" font-family=\"Helvetica,sans-Serif\" font-size=\"14.00\">trtbps &lt;= 111.0</text>\n<text text-anchor=\"middle\" x=\"1591\" y=\"-438.8\" font-family=\"Helvetica,sans-Serif\" font-size=\"14.00\">gini = 0.083</text>\n<text text-anchor=\"middle\" x=\"1591\" y=\"-423.8\" font-family=\"Helvetica,sans-Serif\" font-size=\"14.00\">samples = 69</text>\n<text text-anchor=\"middle\" x=\"1591\" y=\"-408.8\" font-family=\"Helvetica,sans-Serif\" font-size=\"14.00\">value = [3, 66]</text>\n</g>\n<!-- 37&#45;&gt;43 -->\n<g id=\"edge43\" class=\"edge\">\n<title>37&#45;&gt;43</title>\n<path fill=\"none\" stroke=\"black\" d=\"M1545.08,-504.88C1550.84,-496.24 1557.12,-486.82 1563.14,-477.79\"/>\n<polygon fill=\"black\" stroke=\"black\" points=\"1566.17,-479.56 1568.8,-469.3 1560.34,-475.68 1566.17,-479.56\"/>\n</g>\n<!-- 39 -->\n<g id=\"node40\" class=\"node\">\n<title>39</title>\n<polygon fill=\"#399de5\" stroke=\"black\" points=\"1324.5,-357.5 1229.5,-357.5 1229.5,-304.5 1324.5,-304.5 1324.5,-357.5\"/>\n<text text-anchor=\"middle\" x=\"1277\" y=\"-342.3\" font-family=\"Helvetica,sans-Serif\" font-size=\"14.00\">gini = 0.0</text>\n<text text-anchor=\"middle\" x=\"1277\" y=\"-327.3\" font-family=\"Helvetica,sans-Serif\" font-size=\"14.00\">samples = 4</text>\n<text text-anchor=\"middle\" x=\"1277\" y=\"-312.3\" font-family=\"Helvetica,sans-Serif\" font-size=\"14.00\">value = [0, 4]</text>\n</g>\n<!-- 38&#45;&gt;39 -->\n<g id=\"edge39\" class=\"edge\">\n<title>38&#45;&gt;39</title>\n<path fill=\"none\" stroke=\"black\" d=\"M1390.13,-403.67C1369.85,-390.83 1346.25,-375.87 1325.87,-362.96\"/>\n<polygon fill=\"black\" stroke=\"black\" points=\"1327.67,-359.96 1317.35,-357.56 1323.92,-365.87 1327.67,-359.96\"/>\n</g>\n<!-- 40 -->\n<g id=\"node41\" class=\"node\">\n<title>40</title>\n<polygon fill=\"#f6d5bd\" stroke=\"black\" points=\"1467.5,-365 1342.5,-365 1342.5,-297 1467.5,-297 1467.5,-365\"/>\n<text text-anchor=\"middle\" x=\"1405\" y=\"-349.8\" font-family=\"Helvetica,sans-Serif\" font-size=\"14.00\">thalachh &lt;= 125.5</text>\n<text text-anchor=\"middle\" x=\"1405\" y=\"-334.8\" font-family=\"Helvetica,sans-Serif\" font-size=\"14.00\">gini = 0.48</text>\n<text text-anchor=\"middle\" x=\"1405\" y=\"-319.8\" font-family=\"Helvetica,sans-Serif\" font-size=\"14.00\">samples = 5</text>\n<text text-anchor=\"middle\" x=\"1405\" y=\"-304.8\" font-family=\"Helvetica,sans-Serif\" font-size=\"14.00\">value = [3, 2]</text>\n</g>\n<!-- 38&#45;&gt;40 -->\n<g id=\"edge40\" class=\"edge\">\n<title>38&#45;&gt;40</title>\n<path fill=\"none\" stroke=\"black\" d=\"M1427.29,-400.88C1424.61,-392.6 1421.69,-383.6 1418.88,-374.91\"/>\n<polygon fill=\"black\" stroke=\"black\" points=\"1422.18,-373.74 1415.77,-365.3 1415.52,-375.89 1422.18,-373.74\"/>\n</g>\n<!-- 41 -->\n<g id=\"node42\" class=\"node\">\n<title>41</title>\n<polygon fill=\"#399de5\" stroke=\"black\" points=\"1311.5,-253.5 1216.5,-253.5 1216.5,-200.5 1311.5,-200.5 1311.5,-253.5\"/>\n<text text-anchor=\"middle\" x=\"1264\" y=\"-238.3\" font-family=\"Helvetica,sans-Serif\" font-size=\"14.00\">gini = 0.0</text>\n<text text-anchor=\"middle\" x=\"1264\" y=\"-223.3\" font-family=\"Helvetica,sans-Serif\" font-size=\"14.00\">samples = 2</text>\n<text text-anchor=\"middle\" x=\"1264\" y=\"-208.3\" font-family=\"Helvetica,sans-Serif\" font-size=\"14.00\">value = [0, 2]</text>\n</g>\n<!-- 40&#45;&gt;41 -->\n<g id=\"edge41\" class=\"edge\">\n<title>40&#45;&gt;41</title>\n<path fill=\"none\" stroke=\"black\" d=\"M1359.22,-296.88C1342.65,-284.9 1323.99,-271.4 1307.61,-259.55\"/>\n<polygon fill=\"black\" stroke=\"black\" points=\"1309.43,-256.55 1299.28,-253.52 1305.33,-262.22 1309.43,-256.55\"/>\n</g>\n<!-- 42 -->\n<g id=\"node43\" class=\"node\">\n<title>42</title>\n<polygon fill=\"#e58139\" stroke=\"black\" points=\"1424.5,-253.5 1329.5,-253.5 1329.5,-200.5 1424.5,-200.5 1424.5,-253.5\"/>\n<text text-anchor=\"middle\" x=\"1377\" y=\"-238.3\" font-family=\"Helvetica,sans-Serif\" font-size=\"14.00\">gini = 0.0</text>\n<text text-anchor=\"middle\" x=\"1377\" y=\"-223.3\" font-family=\"Helvetica,sans-Serif\" font-size=\"14.00\">samples = 3</text>\n<text text-anchor=\"middle\" x=\"1377\" y=\"-208.3\" font-family=\"Helvetica,sans-Serif\" font-size=\"14.00\">value = [3, 0]</text>\n</g>\n<!-- 40&#45;&gt;42 -->\n<g id=\"edge42\" class=\"edge\">\n<title>40&#45;&gt;42</title>\n<path fill=\"none\" stroke=\"black\" d=\"M1395.91,-296.88C1392.95,-286.11 1389.66,-274.11 1386.66,-263.18\"/>\n<polygon fill=\"black\" stroke=\"black\" points=\"1390.03,-262.24 1384.01,-253.52 1383.28,-264.09 1390.03,-262.24\"/>\n</g>\n<!-- 44 -->\n<g id=\"node45\" class=\"node\">\n<title>44</title>\n<polygon fill=\"#61b1ea\" stroke=\"black\" points=\"1642,-365 1540,-365 1540,-297 1642,-297 1642,-365\"/>\n<text text-anchor=\"middle\" x=\"1591\" y=\"-349.8\" font-family=\"Helvetica,sans-Serif\" font-size=\"14.00\">slp &lt;= 0.5</text>\n<text text-anchor=\"middle\" x=\"1591\" y=\"-334.8\" font-family=\"Helvetica,sans-Serif\" font-size=\"14.00\">gini = 0.278</text>\n<text text-anchor=\"middle\" x=\"1591\" y=\"-319.8\" font-family=\"Helvetica,sans-Serif\" font-size=\"14.00\">samples = 12</text>\n<text text-anchor=\"middle\" x=\"1591\" y=\"-304.8\" font-family=\"Helvetica,sans-Serif\" font-size=\"14.00\">value = [2, 10]</text>\n</g>\n<!-- 43&#45;&gt;44 -->\n<g id=\"edge44\" class=\"edge\">\n<title>43&#45;&gt;44</title>\n<path fill=\"none\" stroke=\"black\" d=\"M1591,-400.88C1591,-392.78 1591,-383.98 1591,-375.47\"/>\n<polygon fill=\"black\" stroke=\"black\" points=\"1594.5,-375.3 1591,-365.3 1587.5,-375.3 1594.5,-375.3\"/>\n</g>\n<!-- 51 -->\n<g id=\"node52\" class=\"node\">\n<title>51</title>\n<polygon fill=\"#3d9fe5\" stroke=\"black\" points=\"1801,-365 1699,-365 1699,-297 1801,-297 1801,-365\"/>\n<text text-anchor=\"middle\" x=\"1750\" y=\"-349.8\" font-family=\"Helvetica,sans-Serif\" font-size=\"14.00\">thall &lt;= 2.5</text>\n<text text-anchor=\"middle\" x=\"1750\" y=\"-334.8\" font-family=\"Helvetica,sans-Serif\" font-size=\"14.00\">gini = 0.034</text>\n<text text-anchor=\"middle\" x=\"1750\" y=\"-319.8\" font-family=\"Helvetica,sans-Serif\" font-size=\"14.00\">samples = 57</text>\n<text text-anchor=\"middle\" x=\"1750\" y=\"-304.8\" font-family=\"Helvetica,sans-Serif\" font-size=\"14.00\">value = [1, 56]</text>\n</g>\n<!-- 43&#45;&gt;51 -->\n<g id=\"edge51\" class=\"edge\">\n<title>43&#45;&gt;51</title>\n<path fill=\"none\" stroke=\"black\" d=\"M1642.62,-400.88C1657.85,-391.12 1674.64,-380.35 1690.32,-370.28\"/>\n<polygon fill=\"black\" stroke=\"black\" points=\"1692.38,-373.12 1698.91,-364.78 1688.6,-367.23 1692.38,-373.12\"/>\n</g>\n<!-- 45 -->\n<g id=\"node46\" class=\"node\">\n<title>45</title>\n<polygon fill=\"#e58139\" stroke=\"black\" points=\"1537.5,-253.5 1442.5,-253.5 1442.5,-200.5 1537.5,-200.5 1537.5,-253.5\"/>\n<text text-anchor=\"middle\" x=\"1490\" y=\"-238.3\" font-family=\"Helvetica,sans-Serif\" font-size=\"14.00\">gini = 0.0</text>\n<text text-anchor=\"middle\" x=\"1490\" y=\"-223.3\" font-family=\"Helvetica,sans-Serif\" font-size=\"14.00\">samples = 1</text>\n<text text-anchor=\"middle\" x=\"1490\" y=\"-208.3\" font-family=\"Helvetica,sans-Serif\" font-size=\"14.00\">value = [1, 0]</text>\n</g>\n<!-- 44&#45;&gt;45 -->\n<g id=\"edge45\" class=\"edge\">\n<title>44&#45;&gt;45</title>\n<path fill=\"none\" stroke=\"black\" d=\"M1558.21,-296.88C1546.77,-285.34 1533.95,-272.39 1522.54,-260.86\"/>\n<polygon fill=\"black\" stroke=\"black\" points=\"1524.79,-258.16 1515.27,-253.52 1519.82,-263.09 1524.79,-258.16\"/>\n</g>\n<!-- 46 -->\n<g id=\"node47\" class=\"node\">\n<title>46</title>\n<polygon fill=\"#4da7e8\" stroke=\"black\" points=\"1680.5,-261 1555.5,-261 1555.5,-193 1680.5,-193 1680.5,-261\"/>\n<text text-anchor=\"middle\" x=\"1618\" y=\"-245.8\" font-family=\"Helvetica,sans-Serif\" font-size=\"14.00\">thalachh &lt;= 152.5</text>\n<text text-anchor=\"middle\" x=\"1618\" y=\"-230.8\" font-family=\"Helvetica,sans-Serif\" font-size=\"14.00\">gini = 0.165</text>\n<text text-anchor=\"middle\" x=\"1618\" y=\"-215.8\" font-family=\"Helvetica,sans-Serif\" font-size=\"14.00\">samples = 11</text>\n<text text-anchor=\"middle\" x=\"1618\" y=\"-200.8\" font-family=\"Helvetica,sans-Serif\" font-size=\"14.00\">value = [1, 10]</text>\n</g>\n<!-- 44&#45;&gt;46 -->\n<g id=\"edge46\" class=\"edge\">\n<title>44&#45;&gt;46</title>\n<path fill=\"none\" stroke=\"black\" d=\"M1599.77,-296.88C1601.94,-288.69 1604.29,-279.79 1606.57,-271.19\"/>\n<polygon fill=\"black\" stroke=\"black\" points=\"1610.01,-271.86 1609.19,-261.3 1603.24,-270.07 1610.01,-271.86\"/>\n</g>\n<!-- 47 -->\n<g id=\"node48\" class=\"node\">\n<title>47</title>\n<polygon fill=\"#ffffff\" stroke=\"black\" points=\"1609.5,-157 1514.5,-157 1514.5,-89 1609.5,-89 1609.5,-157\"/>\n<text text-anchor=\"middle\" x=\"1562\" y=\"-141.8\" font-family=\"Helvetica,sans-Serif\" font-size=\"14.00\">slp &lt;= 1.5</text>\n<text text-anchor=\"middle\" x=\"1562\" y=\"-126.8\" font-family=\"Helvetica,sans-Serif\" font-size=\"14.00\">gini = 0.5</text>\n<text text-anchor=\"middle\" x=\"1562\" y=\"-111.8\" font-family=\"Helvetica,sans-Serif\" font-size=\"14.00\">samples = 2</text>\n<text text-anchor=\"middle\" x=\"1562\" y=\"-96.8\" font-family=\"Helvetica,sans-Serif\" font-size=\"14.00\">value = [1, 1]</text>\n</g>\n<!-- 46&#45;&gt;47 -->\n<g id=\"edge47\" class=\"edge\">\n<title>46&#45;&gt;47</title>\n<path fill=\"none\" stroke=\"black\" d=\"M1599.82,-192.88C1595.12,-184.33 1590.01,-175.01 1585.1,-166.07\"/>\n<polygon fill=\"black\" stroke=\"black\" points=\"1588.16,-164.38 1580.28,-157.3 1582.03,-167.75 1588.16,-164.38\"/>\n</g>\n<!-- 50 -->\n<g id=\"node51\" class=\"node\">\n<title>50</title>\n<polygon fill=\"#399de5\" stroke=\"black\" points=\"1722.5,-149.5 1627.5,-149.5 1627.5,-96.5 1722.5,-96.5 1722.5,-149.5\"/>\n<text text-anchor=\"middle\" x=\"1675\" y=\"-134.3\" font-family=\"Helvetica,sans-Serif\" font-size=\"14.00\">gini = 0.0</text>\n<text text-anchor=\"middle\" x=\"1675\" y=\"-119.3\" font-family=\"Helvetica,sans-Serif\" font-size=\"14.00\">samples = 9</text>\n<text text-anchor=\"middle\" x=\"1675\" y=\"-104.3\" font-family=\"Helvetica,sans-Serif\" font-size=\"14.00\">value = [0, 9]</text>\n</g>\n<!-- 46&#45;&gt;50 -->\n<g id=\"edge50\" class=\"edge\">\n<title>46&#45;&gt;50</title>\n<path fill=\"none\" stroke=\"black\" d=\"M1636.51,-192.88C1642.65,-181.89 1649.51,-169.62 1655.71,-158.52\"/>\n<polygon fill=\"black\" stroke=\"black\" points=\"1658.92,-159.96 1660.74,-149.52 1652.81,-156.54 1658.92,-159.96\"/>\n</g>\n<!-- 48 -->\n<g id=\"node49\" class=\"node\">\n<title>48</title>\n<polygon fill=\"#399de5\" stroke=\"black\" points=\"1553.5,-53 1458.5,-53 1458.5,0 1553.5,0 1553.5,-53\"/>\n<text text-anchor=\"middle\" x=\"1506\" y=\"-37.8\" font-family=\"Helvetica,sans-Serif\" font-size=\"14.00\">gini = 0.0</text>\n<text text-anchor=\"middle\" x=\"1506\" y=\"-22.8\" font-family=\"Helvetica,sans-Serif\" font-size=\"14.00\">samples = 1</text>\n<text text-anchor=\"middle\" x=\"1506\" y=\"-7.8\" font-family=\"Helvetica,sans-Serif\" font-size=\"14.00\">value = [0, 1]</text>\n</g>\n<!-- 47&#45;&gt;48 -->\n<g id=\"edge48\" class=\"edge\">\n<title>47&#45;&gt;48</title>\n<path fill=\"none\" stroke=\"black\" d=\"M1542.41,-88.95C1537.26,-80.26 1531.7,-70.86 1526.5,-62.09\"/>\n<polygon fill=\"black\" stroke=\"black\" points=\"1529.36,-60.06 1521.25,-53.24 1523.34,-63.62 1529.36,-60.06\"/>\n</g>\n<!-- 49 -->\n<g id=\"node50\" class=\"node\">\n<title>49</title>\n<polygon fill=\"#e58139\" stroke=\"black\" points=\"1666.5,-53 1571.5,-53 1571.5,0 1666.5,0 1666.5,-53\"/>\n<text text-anchor=\"middle\" x=\"1619\" y=\"-37.8\" font-family=\"Helvetica,sans-Serif\" font-size=\"14.00\">gini = 0.0</text>\n<text text-anchor=\"middle\" x=\"1619\" y=\"-22.8\" font-family=\"Helvetica,sans-Serif\" font-size=\"14.00\">samples = 1</text>\n<text text-anchor=\"middle\" x=\"1619\" y=\"-7.8\" font-family=\"Helvetica,sans-Serif\" font-size=\"14.00\">value = [1, 0]</text>\n</g>\n<!-- 47&#45;&gt;49 -->\n<g id=\"edge49\" class=\"edge\">\n<title>47&#45;&gt;49</title>\n<path fill=\"none\" stroke=\"black\" d=\"M1581.94,-88.95C1587.23,-80.17 1592.97,-70.66 1598.3,-61.82\"/>\n<polygon fill=\"black\" stroke=\"black\" points=\"1601.31,-63.61 1603.48,-53.24 1595.31,-59.99 1601.31,-63.61\"/>\n</g>\n<!-- 52 -->\n<g id=\"node53\" class=\"node\">\n<title>52</title>\n<polygon fill=\"#399de5\" stroke=\"black\" points=\"1801,-253.5 1699,-253.5 1699,-200.5 1801,-200.5 1801,-253.5\"/>\n<text text-anchor=\"middle\" x=\"1750\" y=\"-238.3\" font-family=\"Helvetica,sans-Serif\" font-size=\"14.00\">gini = 0.0</text>\n<text text-anchor=\"middle\" x=\"1750\" y=\"-223.3\" font-family=\"Helvetica,sans-Serif\" font-size=\"14.00\">samples = 49</text>\n<text text-anchor=\"middle\" x=\"1750\" y=\"-208.3\" font-family=\"Helvetica,sans-Serif\" font-size=\"14.00\">value = [0, 49]</text>\n</g>\n<!-- 51&#45;&gt;52 -->\n<g id=\"edge52\" class=\"edge\">\n<title>51&#45;&gt;52</title>\n<path fill=\"none\" stroke=\"black\" d=\"M1750,-296.88C1750,-286.33 1750,-274.6 1750,-263.85\"/>\n<polygon fill=\"black\" stroke=\"black\" points=\"1753.5,-263.52 1750,-253.52 1746.5,-263.52 1753.5,-263.52\"/>\n</g>\n<!-- 53 -->\n<g id=\"node54\" class=\"node\">\n<title>53</title>\n<polygon fill=\"#55abe9\" stroke=\"black\" points=\"1914.5,-261 1819.5,-261 1819.5,-193 1914.5,-193 1914.5,-261\"/>\n<text text-anchor=\"middle\" x=\"1867\" y=\"-245.8\" font-family=\"Helvetica,sans-Serif\" font-size=\"14.00\">caa &lt;= 0.5</text>\n<text text-anchor=\"middle\" x=\"1867\" y=\"-230.8\" font-family=\"Helvetica,sans-Serif\" font-size=\"14.00\">gini = 0.219</text>\n<text text-anchor=\"middle\" x=\"1867\" y=\"-215.8\" font-family=\"Helvetica,sans-Serif\" font-size=\"14.00\">samples = 8</text>\n<text text-anchor=\"middle\" x=\"1867\" y=\"-200.8\" font-family=\"Helvetica,sans-Serif\" font-size=\"14.00\">value = [1, 7]</text>\n</g>\n<!-- 51&#45;&gt;53 -->\n<g id=\"edge53\" class=\"edge\">\n<title>51&#45;&gt;53</title>\n<path fill=\"none\" stroke=\"black\" d=\"M1787.99,-296.88C1798.51,-287.71 1810.05,-277.65 1820.98,-268.12\"/>\n<polygon fill=\"black\" stroke=\"black\" points=\"1823.57,-270.51 1828.8,-261.3 1818.97,-265.23 1823.57,-270.51\"/>\n</g>\n<!-- 54 -->\n<g id=\"node55\" class=\"node\">\n<title>54</title>\n<polygon fill=\"#399de5\" stroke=\"black\" points=\"1903.5,-149.5 1808.5,-149.5 1808.5,-96.5 1903.5,-96.5 1903.5,-149.5\"/>\n<text text-anchor=\"middle\" x=\"1856\" y=\"-134.3\" font-family=\"Helvetica,sans-Serif\" font-size=\"14.00\">gini = 0.0</text>\n<text text-anchor=\"middle\" x=\"1856\" y=\"-119.3\" font-family=\"Helvetica,sans-Serif\" font-size=\"14.00\">samples = 7</text>\n<text text-anchor=\"middle\" x=\"1856\" y=\"-104.3\" font-family=\"Helvetica,sans-Serif\" font-size=\"14.00\">value = [0, 7]</text>\n</g>\n<!-- 53&#45;&gt;54 -->\n<g id=\"edge54\" class=\"edge\">\n<title>53&#45;&gt;54</title>\n<path fill=\"none\" stroke=\"black\" d=\"M1863.43,-192.88C1862.28,-182.22 1861,-170.35 1859.83,-159.52\"/>\n<polygon fill=\"black\" stroke=\"black\" points=\"1863.3,-159.09 1858.75,-149.52 1856.34,-159.84 1863.3,-159.09\"/>\n</g>\n<!-- 55 -->\n<g id=\"node56\" class=\"node\">\n<title>55</title>\n<polygon fill=\"#e58139\" stroke=\"black\" points=\"2016.5,-149.5 1921.5,-149.5 1921.5,-96.5 2016.5,-96.5 2016.5,-149.5\"/>\n<text text-anchor=\"middle\" x=\"1969\" y=\"-134.3\" font-family=\"Helvetica,sans-Serif\" font-size=\"14.00\">gini = 0.0</text>\n<text text-anchor=\"middle\" x=\"1969\" y=\"-119.3\" font-family=\"Helvetica,sans-Serif\" font-size=\"14.00\">samples = 1</text>\n<text text-anchor=\"middle\" x=\"1969\" y=\"-104.3\" font-family=\"Helvetica,sans-Serif\" font-size=\"14.00\">value = [1, 0]</text>\n</g>\n<!-- 53&#45;&gt;55 -->\n<g id=\"edge55\" class=\"edge\">\n<title>53&#45;&gt;55</title>\n<path fill=\"none\" stroke=\"black\" d=\"M1900.12,-192.88C1911.66,-181.34 1924.61,-168.39 1936.14,-156.86\"/>\n<polygon fill=\"black\" stroke=\"black\" points=\"1938.88,-159.07 1943.48,-149.52 1933.93,-154.12 1938.88,-159.07\"/>\n</g>\n<!-- 58 -->\n<g id=\"node59\" class=\"node\">\n<title>58</title>\n<polygon fill=\"#e58139\" stroke=\"black\" points=\"1818.5,-565.5 1723.5,-565.5 1723.5,-512.5 1818.5,-512.5 1818.5,-565.5\"/>\n<text text-anchor=\"middle\" x=\"1771\" y=\"-550.3\" font-family=\"Helvetica,sans-Serif\" font-size=\"14.00\">gini = 0.0</text>\n<text text-anchor=\"middle\" x=\"1771\" y=\"-535.3\" font-family=\"Helvetica,sans-Serif\" font-size=\"14.00\">samples = 4</text>\n<text text-anchor=\"middle\" x=\"1771\" y=\"-520.3\" font-family=\"Helvetica,sans-Serif\" font-size=\"14.00\">value = [4, 0]</text>\n</g>\n<!-- 57&#45;&gt;58 -->\n<g id=\"edge58\" class=\"edge\">\n<title>57&#45;&gt;58</title>\n<path fill=\"none\" stroke=\"black\" d=\"M1771,-608.88C1771,-598.33 1771,-586.6 1771,-575.85\"/>\n<polygon fill=\"black\" stroke=\"black\" points=\"1774.5,-575.52 1771,-565.52 1767.5,-575.52 1774.5,-575.52\"/>\n</g>\n<!-- 59 -->\n<g id=\"node60\" class=\"node\">\n<title>59</title>\n<polygon fill=\"#8ac5f0\" stroke=\"black\" points=\"2120,-573 2010,-573 2010,-505 2120,-505 2120,-573\"/>\n<text text-anchor=\"middle\" x=\"2065\" y=\"-557.8\" font-family=\"Helvetica,sans-Serif\" font-size=\"14.00\">sex &lt;= 0.5</text>\n<text text-anchor=\"middle\" x=\"2065\" y=\"-542.8\" font-family=\"Helvetica,sans-Serif\" font-size=\"14.00\">gini = 0.411</text>\n<text text-anchor=\"middle\" x=\"2065\" y=\"-527.8\" font-family=\"Helvetica,sans-Serif\" font-size=\"14.00\">samples = 38</text>\n<text text-anchor=\"middle\" x=\"2065\" y=\"-512.8\" font-family=\"Helvetica,sans-Serif\" font-size=\"14.00\">value = [11, 27]</text>\n</g>\n<!-- 57&#45;&gt;59 -->\n<g id=\"edge59\" class=\"edge\">\n<title>57&#45;&gt;59</title>\n<path fill=\"none\" stroke=\"black\" d=\"M1826.21,-612.74C1829.16,-611.43 1832.1,-610.17 1835,-609 1889.31,-587.07 1953.29,-568.43 1999.96,-556.07\"/>\n<polygon fill=\"black\" stroke=\"black\" points=\"2000.87,-559.45 2009.65,-553.53 1999.09,-552.68 2000.87,-559.45\"/>\n</g>\n<!-- 60 -->\n<g id=\"node61\" class=\"node\">\n<title>60</title>\n<polygon fill=\"#50a9e8\" stroke=\"black\" points=\"2116,-469 2014,-469 2014,-401 2116,-401 2116,-469\"/>\n<text text-anchor=\"middle\" x=\"2065\" y=\"-453.8\" font-family=\"Helvetica,sans-Serif\" font-size=\"14.00\">age &lt;= 62.5</text>\n<text text-anchor=\"middle\" x=\"2065\" y=\"-438.8\" font-family=\"Helvetica,sans-Serif\" font-size=\"14.00\">gini = 0.188</text>\n<text text-anchor=\"middle\" x=\"2065\" y=\"-423.8\" font-family=\"Helvetica,sans-Serif\" font-size=\"14.00\">samples = 19</text>\n<text text-anchor=\"middle\" x=\"2065\" y=\"-408.8\" font-family=\"Helvetica,sans-Serif\" font-size=\"14.00\">value = [2, 17]</text>\n</g>\n<!-- 59&#45;&gt;60 -->\n<g id=\"edge60\" class=\"edge\">\n<title>59&#45;&gt;60</title>\n<path fill=\"none\" stroke=\"black\" d=\"M2065,-504.88C2065,-496.78 2065,-487.98 2065,-479.47\"/>\n<polygon fill=\"black\" stroke=\"black\" points=\"2068.5,-479.3 2065,-469.3 2061.5,-479.3 2068.5,-479.3\"/>\n</g>\n<!-- 65 -->\n<g id=\"node66\" class=\"node\">\n<title>65</title>\n<polygon fill=\"#ebf5fc\" stroke=\"black\" points=\"2348,-469 2246,-469 2246,-401 2348,-401 2348,-469\"/>\n<text text-anchor=\"middle\" x=\"2297\" y=\"-453.8\" font-family=\"Helvetica,sans-Serif\" font-size=\"14.00\">chol &lt;= 245.5</text>\n<text text-anchor=\"middle\" x=\"2297\" y=\"-438.8\" font-family=\"Helvetica,sans-Serif\" font-size=\"14.00\">gini = 0.499</text>\n<text text-anchor=\"middle\" x=\"2297\" y=\"-423.8\" font-family=\"Helvetica,sans-Serif\" font-size=\"14.00\">samples = 19</text>\n<text text-anchor=\"middle\" x=\"2297\" y=\"-408.8\" font-family=\"Helvetica,sans-Serif\" font-size=\"14.00\">value = [9, 10]</text>\n</g>\n<!-- 59&#45;&gt;65 -->\n<g id=\"edge65\" class=\"edge\">\n<title>59&#45;&gt;65</title>\n<path fill=\"none\" stroke=\"black\" d=\"M2120.28,-513.7C2155.22,-498.34 2200.39,-478.47 2236.32,-462.68\"/>\n<polygon fill=\"black\" stroke=\"black\" points=\"2237.98,-465.77 2245.72,-458.55 2235.16,-459.37 2237.98,-465.77\"/>\n</g>\n<!-- 61 -->\n<g id=\"node62\" class=\"node\">\n<title>61</title>\n<polygon fill=\"#9ccef2\" stroke=\"black\" points=\"2054.5,-365 1959.5,-365 1959.5,-297 2054.5,-297 2054.5,-365\"/>\n<text text-anchor=\"middle\" x=\"2007\" y=\"-349.8\" font-family=\"Helvetica,sans-Serif\" font-size=\"14.00\">caa &lt;= 0.5</text>\n<text text-anchor=\"middle\" x=\"2007\" y=\"-334.8\" font-family=\"Helvetica,sans-Serif\" font-size=\"14.00\">gini = 0.444</text>\n<text text-anchor=\"middle\" x=\"2007\" y=\"-319.8\" font-family=\"Helvetica,sans-Serif\" font-size=\"14.00\">samples = 6</text>\n<text text-anchor=\"middle\" x=\"2007\" y=\"-304.8\" font-family=\"Helvetica,sans-Serif\" font-size=\"14.00\">value = [2, 4]</text>\n</g>\n<!-- 60&#45;&gt;61 -->\n<g id=\"edge61\" class=\"edge\">\n<title>60&#45;&gt;61</title>\n<path fill=\"none\" stroke=\"black\" d=\"M2046.17,-400.88C2041.31,-392.33 2036.01,-383.01 2030.92,-374.07\"/>\n<polygon fill=\"black\" stroke=\"black\" points=\"2033.92,-372.26 2025.93,-365.3 2027.84,-375.72 2033.92,-372.26\"/>\n</g>\n<!-- 64 -->\n<g id=\"node65\" class=\"node\">\n<title>64</title>\n<polygon fill=\"#399de5\" stroke=\"black\" points=\"2175,-357.5 2073,-357.5 2073,-304.5 2175,-304.5 2175,-357.5\"/>\n<text text-anchor=\"middle\" x=\"2124\" y=\"-342.3\" font-family=\"Helvetica,sans-Serif\" font-size=\"14.00\">gini = 0.0</text>\n<text text-anchor=\"middle\" x=\"2124\" y=\"-327.3\" font-family=\"Helvetica,sans-Serif\" font-size=\"14.00\">samples = 13</text>\n<text text-anchor=\"middle\" x=\"2124\" y=\"-312.3\" font-family=\"Helvetica,sans-Serif\" font-size=\"14.00\">value = [0, 13]</text>\n</g>\n<!-- 60&#45;&gt;64 -->\n<g id=\"edge64\" class=\"edge\">\n<title>60&#45;&gt;64</title>\n<path fill=\"none\" stroke=\"black\" d=\"M2084.16,-400.88C2090.58,-389.78 2097.76,-377.37 2104.23,-366.18\"/>\n<polygon fill=\"black\" stroke=\"black\" points=\"2107.26,-367.93 2109.24,-357.52 2101.2,-364.42 2107.26,-367.93\"/>\n</g>\n<!-- 62 -->\n<g id=\"node63\" class=\"node\">\n<title>62</title>\n<polygon fill=\"#399de5\" stroke=\"black\" points=\"2027.5,-253.5 1932.5,-253.5 1932.5,-200.5 2027.5,-200.5 2027.5,-253.5\"/>\n<text text-anchor=\"middle\" x=\"1980\" y=\"-238.3\" font-family=\"Helvetica,sans-Serif\" font-size=\"14.00\">gini = 0.0</text>\n<text text-anchor=\"middle\" x=\"1980\" y=\"-223.3\" font-family=\"Helvetica,sans-Serif\" font-size=\"14.00\">samples = 4</text>\n<text text-anchor=\"middle\" x=\"1980\" y=\"-208.3\" font-family=\"Helvetica,sans-Serif\" font-size=\"14.00\">value = [0, 4]</text>\n</g>\n<!-- 61&#45;&gt;62 -->\n<g id=\"edge62\" class=\"edge\">\n<title>61&#45;&gt;62</title>\n<path fill=\"none\" stroke=\"black\" d=\"M1998.23,-296.88C1995.41,-286.22 1992.27,-274.35 1989.4,-263.52\"/>\n<polygon fill=\"black\" stroke=\"black\" points=\"1992.7,-262.29 1986.76,-253.52 1985.93,-264.08 1992.7,-262.29\"/>\n</g>\n<!-- 63 -->\n<g id=\"node64\" class=\"node\">\n<title>63</title>\n<polygon fill=\"#e58139\" stroke=\"black\" points=\"2140.5,-253.5 2045.5,-253.5 2045.5,-200.5 2140.5,-200.5 2140.5,-253.5\"/>\n<text text-anchor=\"middle\" x=\"2093\" y=\"-238.3\" font-family=\"Helvetica,sans-Serif\" font-size=\"14.00\">gini = 0.0</text>\n<text text-anchor=\"middle\" x=\"2093\" y=\"-223.3\" font-family=\"Helvetica,sans-Serif\" font-size=\"14.00\">samples = 2</text>\n<text text-anchor=\"middle\" x=\"2093\" y=\"-208.3\" font-family=\"Helvetica,sans-Serif\" font-size=\"14.00\">value = [2, 0]</text>\n</g>\n<!-- 61&#45;&gt;63 -->\n<g id=\"edge63\" class=\"edge\">\n<title>61&#45;&gt;63</title>\n<path fill=\"none\" stroke=\"black\" d=\"M2034.92,-296.88C2044.57,-285.45 2055.37,-272.63 2065.02,-261.19\"/>\n<polygon fill=\"black\" stroke=\"black\" points=\"2067.71,-263.42 2071.48,-253.52 2062.36,-258.91 2067.71,-263.42\"/>\n</g>\n<!-- 66 -->\n<g id=\"node67\" class=\"node\">\n<title>66</title>\n<polygon fill=\"#65b3eb\" stroke=\"black\" points=\"2346.5,-365 2247.5,-365 2247.5,-297 2346.5,-297 2346.5,-365\"/>\n<text text-anchor=\"middle\" x=\"2297\" y=\"-349.8\" font-family=\"Helvetica,sans-Serif\" font-size=\"14.00\">chol &lt;= 207.5</text>\n<text text-anchor=\"middle\" x=\"2297\" y=\"-334.8\" font-family=\"Helvetica,sans-Serif\" font-size=\"14.00\">gini = 0.298</text>\n<text text-anchor=\"middle\" x=\"2297\" y=\"-319.8\" font-family=\"Helvetica,sans-Serif\" font-size=\"14.00\">samples = 11</text>\n<text text-anchor=\"middle\" x=\"2297\" y=\"-304.8\" font-family=\"Helvetica,sans-Serif\" font-size=\"14.00\">value = [2, 9]</text>\n</g>\n<!-- 65&#45;&gt;66 -->\n<g id=\"edge66\" class=\"edge\">\n<title>65&#45;&gt;66</title>\n<path fill=\"none\" stroke=\"black\" d=\"M2297,-400.88C2297,-392.78 2297,-383.98 2297,-375.47\"/>\n<polygon fill=\"black\" stroke=\"black\" points=\"2300.5,-375.3 2297,-365.3 2293.5,-375.3 2300.5,-375.3\"/>\n</g>\n<!-- 73 -->\n<g id=\"node74\" class=\"node\">\n<title>73</title>\n<polygon fill=\"#e99355\" stroke=\"black\" points=\"2500,-365 2392,-365 2392,-297 2500,-297 2500,-365\"/>\n<text text-anchor=\"middle\" x=\"2446\" y=\"-349.8\" font-family=\"Helvetica,sans-Serif\" font-size=\"14.00\">trtbps &lt;= 119.0</text>\n<text text-anchor=\"middle\" x=\"2446\" y=\"-334.8\" font-family=\"Helvetica,sans-Serif\" font-size=\"14.00\">gini = 0.219</text>\n<text text-anchor=\"middle\" x=\"2446\" y=\"-319.8\" font-family=\"Helvetica,sans-Serif\" font-size=\"14.00\">samples = 8</text>\n<text text-anchor=\"middle\" x=\"2446\" y=\"-304.8\" font-family=\"Helvetica,sans-Serif\" font-size=\"14.00\">value = [7, 1]</text>\n</g>\n<!-- 65&#45;&gt;73 -->\n<g id=\"edge73\" class=\"edge\">\n<title>65&#45;&gt;73</title>\n<path fill=\"none\" stroke=\"black\" d=\"M2345.38,-400.88C2359.37,-391.3 2374.77,-380.76 2389.23,-370.86\"/>\n<polygon fill=\"black\" stroke=\"black\" points=\"2391.34,-373.66 2397.61,-365.12 2387.38,-367.89 2391.34,-373.66\"/>\n</g>\n<!-- 67 -->\n<g id=\"node68\" class=\"node\">\n<title>67</title>\n<polygon fill=\"#e58139\" stroke=\"black\" points=\"2253.5,-253.5 2158.5,-253.5 2158.5,-200.5 2253.5,-200.5 2253.5,-253.5\"/>\n<text text-anchor=\"middle\" x=\"2206\" y=\"-238.3\" font-family=\"Helvetica,sans-Serif\" font-size=\"14.00\">gini = 0.0</text>\n<text text-anchor=\"middle\" x=\"2206\" y=\"-223.3\" font-family=\"Helvetica,sans-Serif\" font-size=\"14.00\">samples = 1</text>\n<text text-anchor=\"middle\" x=\"2206\" y=\"-208.3\" font-family=\"Helvetica,sans-Serif\" font-size=\"14.00\">value = [1, 0]</text>\n</g>\n<!-- 66&#45;&gt;67 -->\n<g id=\"edge67\" class=\"edge\">\n<title>66&#45;&gt;67</title>\n<path fill=\"none\" stroke=\"black\" d=\"M2267.45,-296.88C2257.25,-285.45 2245.82,-272.63 2235.61,-261.19\"/>\n<polygon fill=\"black\" stroke=\"black\" points=\"2238.04,-258.65 2228.77,-253.52 2232.81,-263.31 2238.04,-258.65\"/>\n</g>\n<!-- 68 -->\n<g id=\"node69\" class=\"node\">\n<title>68</title>\n<polygon fill=\"#4fa8e8\" stroke=\"black\" points=\"2380,-261 2272,-261 2272,-193 2380,-193 2380,-261\"/>\n<text text-anchor=\"middle\" x=\"2326\" y=\"-245.8\" font-family=\"Helvetica,sans-Serif\" font-size=\"14.00\">trtbps &lt;= 151.0</text>\n<text text-anchor=\"middle\" x=\"2326\" y=\"-230.8\" font-family=\"Helvetica,sans-Serif\" font-size=\"14.00\">gini = 0.18</text>\n<text text-anchor=\"middle\" x=\"2326\" y=\"-215.8\" font-family=\"Helvetica,sans-Serif\" font-size=\"14.00\">samples = 10</text>\n<text text-anchor=\"middle\" x=\"2326\" y=\"-200.8\" font-family=\"Helvetica,sans-Serif\" font-size=\"14.00\">value = [1, 9]</text>\n</g>\n<!-- 66&#45;&gt;68 -->\n<g id=\"edge68\" class=\"edge\">\n<title>66&#45;&gt;68</title>\n<path fill=\"none\" stroke=\"black\" d=\"M2306.42,-296.88C2308.75,-288.69 2311.28,-279.79 2313.72,-271.19\"/>\n<polygon fill=\"black\" stroke=\"black\" points=\"2317.16,-271.88 2316.53,-261.3 2310.43,-269.96 2317.16,-271.88\"/>\n</g>\n<!-- 69 -->\n<g id=\"node70\" class=\"node\">\n<title>69</title>\n<polygon fill=\"#399de5\" stroke=\"black\" points=\"2316.5,-149.5 2221.5,-149.5 2221.5,-96.5 2316.5,-96.5 2316.5,-149.5\"/>\n<text text-anchor=\"middle\" x=\"2269\" y=\"-134.3\" font-family=\"Helvetica,sans-Serif\" font-size=\"14.00\">gini = 0.0</text>\n<text text-anchor=\"middle\" x=\"2269\" y=\"-119.3\" font-family=\"Helvetica,sans-Serif\" font-size=\"14.00\">samples = 7</text>\n<text text-anchor=\"middle\" x=\"2269\" y=\"-104.3\" font-family=\"Helvetica,sans-Serif\" font-size=\"14.00\">value = [0, 7]</text>\n</g>\n<!-- 68&#45;&gt;69 -->\n<g id=\"edge69\" class=\"edge\">\n<title>68&#45;&gt;69</title>\n<path fill=\"none\" stroke=\"black\" d=\"M2307.49,-192.88C2301.35,-181.89 2294.49,-169.62 2288.29,-158.52\"/>\n<polygon fill=\"black\" stroke=\"black\" points=\"2291.19,-156.54 2283.26,-149.52 2285.08,-159.96 2291.19,-156.54\"/>\n</g>\n<!-- 70 -->\n<g id=\"node71\" class=\"node\">\n<title>70</title>\n<polygon fill=\"#9ccef2\" stroke=\"black\" points=\"2429.5,-157 2334.5,-157 2334.5,-89 2429.5,-89 2429.5,-157\"/>\n<text text-anchor=\"middle\" x=\"2382\" y=\"-141.8\" font-family=\"Helvetica,sans-Serif\" font-size=\"14.00\">age &lt;= 68.0</text>\n<text text-anchor=\"middle\" x=\"2382\" y=\"-126.8\" font-family=\"Helvetica,sans-Serif\" font-size=\"14.00\">gini = 0.444</text>\n<text text-anchor=\"middle\" x=\"2382\" y=\"-111.8\" font-family=\"Helvetica,sans-Serif\" font-size=\"14.00\">samples = 3</text>\n<text text-anchor=\"middle\" x=\"2382\" y=\"-96.8\" font-family=\"Helvetica,sans-Serif\" font-size=\"14.00\">value = [1, 2]</text>\n</g>\n<!-- 68&#45;&gt;70 -->\n<g id=\"edge70\" class=\"edge\">\n<title>68&#45;&gt;70</title>\n<path fill=\"none\" stroke=\"black\" d=\"M2344.18,-192.88C2348.88,-184.33 2353.99,-175.01 2358.9,-166.07\"/>\n<polygon fill=\"black\" stroke=\"black\" points=\"2361.97,-167.75 2363.72,-157.3 2355.84,-164.38 2361.97,-167.75\"/>\n</g>\n<!-- 71 -->\n<g id=\"node72\" class=\"node\">\n<title>71</title>\n<polygon fill=\"#e58139\" stroke=\"black\" points=\"2372.5,-53 2277.5,-53 2277.5,0 2372.5,0 2372.5,-53\"/>\n<text text-anchor=\"middle\" x=\"2325\" y=\"-37.8\" font-family=\"Helvetica,sans-Serif\" font-size=\"14.00\">gini = 0.0</text>\n<text text-anchor=\"middle\" x=\"2325\" y=\"-22.8\" font-family=\"Helvetica,sans-Serif\" font-size=\"14.00\">samples = 1</text>\n<text text-anchor=\"middle\" x=\"2325\" y=\"-7.8\" font-family=\"Helvetica,sans-Serif\" font-size=\"14.00\">value = [1, 0]</text>\n</g>\n<!-- 70&#45;&gt;71 -->\n<g id=\"edge71\" class=\"edge\">\n<title>70&#45;&gt;71</title>\n<path fill=\"none\" stroke=\"black\" d=\"M2362.06,-88.95C2356.77,-80.17 2351.03,-70.66 2345.7,-61.82\"/>\n<polygon fill=\"black\" stroke=\"black\" points=\"2348.69,-59.99 2340.52,-53.24 2342.69,-63.61 2348.69,-59.99\"/>\n</g>\n<!-- 72 -->\n<g id=\"node73\" class=\"node\">\n<title>72</title>\n<polygon fill=\"#399de5\" stroke=\"black\" points=\"2485.5,-53 2390.5,-53 2390.5,0 2485.5,0 2485.5,-53\"/>\n<text text-anchor=\"middle\" x=\"2438\" y=\"-37.8\" font-family=\"Helvetica,sans-Serif\" font-size=\"14.00\">gini = 0.0</text>\n<text text-anchor=\"middle\" x=\"2438\" y=\"-22.8\" font-family=\"Helvetica,sans-Serif\" font-size=\"14.00\">samples = 2</text>\n<text text-anchor=\"middle\" x=\"2438\" y=\"-7.8\" font-family=\"Helvetica,sans-Serif\" font-size=\"14.00\">value = [0, 2]</text>\n</g>\n<!-- 70&#45;&gt;72 -->\n<g id=\"edge72\" class=\"edge\">\n<title>70&#45;&gt;72</title>\n<path fill=\"none\" stroke=\"black\" d=\"M2401.59,-88.95C2406.74,-80.26 2412.3,-70.86 2417.5,-62.09\"/>\n<polygon fill=\"black\" stroke=\"black\" points=\"2420.66,-63.62 2422.75,-53.24 2414.64,-60.06 2420.66,-63.62\"/>\n</g>\n<!-- 74 -->\n<g id=\"node75\" class=\"node\">\n<title>74</title>\n<polygon fill=\"#399de5\" stroke=\"black\" points=\"2493.5,-253.5 2398.5,-253.5 2398.5,-200.5 2493.5,-200.5 2493.5,-253.5\"/>\n<text text-anchor=\"middle\" x=\"2446\" y=\"-238.3\" font-family=\"Helvetica,sans-Serif\" font-size=\"14.00\">gini = 0.0</text>\n<text text-anchor=\"middle\" x=\"2446\" y=\"-223.3\" font-family=\"Helvetica,sans-Serif\" font-size=\"14.00\">samples = 1</text>\n<text text-anchor=\"middle\" x=\"2446\" y=\"-208.3\" font-family=\"Helvetica,sans-Serif\" font-size=\"14.00\">value = [0, 1]</text>\n</g>\n<!-- 73&#45;&gt;74 -->\n<g id=\"edge74\" class=\"edge\">\n<title>73&#45;&gt;74</title>\n<path fill=\"none\" stroke=\"black\" d=\"M2446,-296.88C2446,-286.33 2446,-274.6 2446,-263.85\"/>\n<polygon fill=\"black\" stroke=\"black\" points=\"2449.5,-263.52 2446,-253.52 2442.5,-263.52 2449.5,-263.52\"/>\n</g>\n<!-- 75 -->\n<g id=\"node76\" class=\"node\">\n<title>75</title>\n<polygon fill=\"#e58139\" stroke=\"black\" points=\"2606.5,-253.5 2511.5,-253.5 2511.5,-200.5 2606.5,-200.5 2606.5,-253.5\"/>\n<text text-anchor=\"middle\" x=\"2559\" y=\"-238.3\" font-family=\"Helvetica,sans-Serif\" font-size=\"14.00\">gini = 0.0</text>\n<text text-anchor=\"middle\" x=\"2559\" y=\"-223.3\" font-family=\"Helvetica,sans-Serif\" font-size=\"14.00\">samples = 7</text>\n<text text-anchor=\"middle\" x=\"2559\" y=\"-208.3\" font-family=\"Helvetica,sans-Serif\" font-size=\"14.00\">value = [7, 0]</text>\n</g>\n<!-- 73&#45;&gt;75 -->\n<g id=\"edge75\" class=\"edge\">\n<title>73&#45;&gt;75</title>\n<path fill=\"none\" stroke=\"black\" d=\"M2482.69,-296.88C2495.6,-285.23 2510.1,-272.14 2522.96,-260.53\"/>\n<polygon fill=\"black\" stroke=\"black\" points=\"2525.65,-262.82 2530.73,-253.52 2520.96,-257.62 2525.65,-262.82\"/>\n</g>\n<!-- 77 -->\n<g id=\"node78\" class=\"node\">\n<title>77</title>\n<polygon fill=\"#399de5\" stroke=\"black\" points=\"1939.5,-669.5 1844.5,-669.5 1844.5,-616.5 1939.5,-616.5 1939.5,-669.5\"/>\n<text text-anchor=\"middle\" x=\"1892\" y=\"-654.3\" font-family=\"Helvetica,sans-Serif\" font-size=\"14.00\">gini = 0.0</text>\n<text text-anchor=\"middle\" x=\"1892\" y=\"-639.3\" font-family=\"Helvetica,sans-Serif\" font-size=\"14.00\">samples = 2</text>\n<text text-anchor=\"middle\" x=\"1892\" y=\"-624.3\" font-family=\"Helvetica,sans-Serif\" font-size=\"14.00\">value = [0, 2]</text>\n</g>\n<!-- 76&#45;&gt;77 -->\n<g id=\"edge77\" class=\"edge\">\n<title>76&#45;&gt;77</title>\n<path fill=\"none\" stroke=\"black\" d=\"M1892,-712.88C1892,-702.33 1892,-690.6 1892,-679.85\"/>\n<polygon fill=\"black\" stroke=\"black\" points=\"1895.5,-679.52 1892,-669.52 1888.5,-679.52 1895.5,-679.52\"/>\n</g>\n<!-- 78 -->\n<g id=\"node79\" class=\"node\">\n<title>78</title>\n<polygon fill=\"#e58139\" stroke=\"black\" points=\"2052.5,-669.5 1957.5,-669.5 1957.5,-616.5 2052.5,-616.5 2052.5,-669.5\"/>\n<text text-anchor=\"middle\" x=\"2005\" y=\"-654.3\" font-family=\"Helvetica,sans-Serif\" font-size=\"14.00\">gini = 0.0</text>\n<text text-anchor=\"middle\" x=\"2005\" y=\"-639.3\" font-family=\"Helvetica,sans-Serif\" font-size=\"14.00\">samples = 9</text>\n<text text-anchor=\"middle\" x=\"2005\" y=\"-624.3\" font-family=\"Helvetica,sans-Serif\" font-size=\"14.00\">value = [9, 0]</text>\n</g>\n<!-- 76&#45;&gt;78 -->\n<g id=\"edge78\" class=\"edge\">\n<title>76&#45;&gt;78</title>\n<path fill=\"none\" stroke=\"black\" d=\"M1928.69,-712.88C1941.6,-701.23 1956.1,-688.14 1968.96,-676.53\"/>\n<polygon fill=\"black\" stroke=\"black\" points=\"1971.65,-678.82 1976.73,-669.52 1966.96,-673.62 1971.65,-678.82\"/>\n</g>\n</g>\n</svg>\n",
            "text/plain": [
              "<graphviz.sources.Source at 0x7b81192de950>"
            ]
          },
          "metadata": {},
          "execution_count": 12
        }
      ]
    },
    {
      "cell_type": "code",
      "source": [
        "rf=xgb.XGBClassifier()  #boostingde ağaçlar geliştiriliyor.\n",
        "model2=rf.fit(x_train,y_train)\n",
        "model2.score(x_test,y_test)"
      ],
      "metadata": {
        "colab": {
          "base_uri": "https://localhost:8080/"
        },
        "id": "rRLxRWkgTMee",
        "outputId": "99b44d0d-a851-4a66-931b-5f463cec1546"
      },
      "execution_count": null,
      "outputs": [
        {
          "output_type": "execute_result",
          "data": {
            "text/plain": [
              "0.819672131147541"
            ]
          },
          "metadata": {},
          "execution_count": 9
        }
      ]
    },
    {
      "cell_type": "code",
      "source": [
        "#tahmin için\n",
        "insan=df.sample().drop(\"output\",axis=1).values   #outputunu sildirerek tahmin edeceğimiz değeri bulmayı düşünüyoruz.sample() rastege bir değeri seçer"
      ],
      "metadata": {
        "id": "OOXp9QkLUXKZ"
      },
      "execution_count": null,
      "outputs": []
    },
    {
      "cell_type": "code",
      "source": [
        "model2.predict(insan)"
      ],
      "metadata": {
        "colab": {
          "base_uri": "https://localhost:8080/"
        },
        "id": "g_77I4fiUrv4",
        "outputId": "f9850afe-87a4-466e-e72d-280067cc03be"
      },
      "execution_count": null,
      "outputs": [
        {
          "output_type": "execute_result",
          "data": {
            "text/plain": [
              "array([0])"
            ]
          },
          "metadata": {},
          "execution_count": 107
        }
      ]
    }
  ]
}