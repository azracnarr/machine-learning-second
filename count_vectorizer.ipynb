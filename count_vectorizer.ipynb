{
  "nbformat": 4,
  "nbformat_minor": 0,
  "metadata": {
    "colab": {
      "provenance": []
    },
    "kernelspec": {
      "name": "python3",
      "display_name": "Python 3"
    },
    "language_info": {
      "name": "python"
    }
  },
  "cells": [
    {
      "cell_type": "code",
      "execution_count": null,
      "metadata": {
        "id": "JXpllCugOnGC"
      },
      "outputs": [],
      "source": [
        "#stop words\n",
        "\n",
        "# ne mesela fakat gibi"
      ]
    },
    {
      "cell_type": "code",
      "source": [
        "# count vectorizer string cümlelerde içinde geçen önemli kelimeleri alıp arraye atıyor"
      ],
      "metadata": {
        "id": "4vwWxVK5PGqb"
      },
      "execution_count": null,
      "outputs": []
    },
    {
      "cell_type": "code",
      "source": [
        "import pandas as pd\n",
        "import numpy as np\n",
        "from sklearn.feature_extraction.text import CountVectorizer"
      ],
      "metadata": {
        "id": "9XWQO2_lPOk3"
      },
      "execution_count": null,
      "outputs": []
    },
    {
      "cell_type": "code",
      "source": [
        "df=pd.DataFrame()"
      ],
      "metadata": {
        "id": "51a0jlmKPij3"
      },
      "execution_count": null,
      "outputs": []
    },
    {
      "cell_type": "code",
      "source": [
        "df[\"cümleler\"]=[\"azra yukarı bak\",\"azra aşağı bak\",\"azra yanıma gel\"]"
      ],
      "metadata": {
        "id": "SeKbAwpCPn3o"
      },
      "execution_count": null,
      "outputs": []
    },
    {
      "cell_type": "code",
      "source": [
        "cv=CountVectorizer(max_features=4)"
      ],
      "metadata": {
        "id": "Cu6CHGTZPwN7"
      },
      "execution_count": null,
      "outputs": []
    },
    {
      "cell_type": "code",
      "source": [
        "a=cv.fit_transform(df[\"cümleler\"])"
      ],
      "metadata": {
        "id": "oQI35RidP4tF"
      },
      "execution_count": null,
      "outputs": []
    },
    {
      "cell_type": "code",
      "source": [
        "x=a.toarray()"
      ],
      "metadata": {
        "id": "VqybGpJaQNaE"
      },
      "execution_count": null,
      "outputs": []
    },
    {
      "cell_type": "code",
      "source": [
        "x"
      ],
      "metadata": {
        "colab": {
          "base_uri": "https://localhost:8080/"
        },
        "id": "vFtE36w0QKMe",
        "outputId": "c54574af-a97e-4c68-8f5f-bbc7186681be"
      },
      "execution_count": null,
      "outputs": [
        {
          "output_type": "execute_result",
          "data": {
            "text/plain": [
              "array([[1, 0, 1, 0],\n",
              "       [1, 1, 1, 0],\n",
              "       [1, 0, 0, 1]])"
            ]
          },
          "metadata": {},
          "execution_count": 19
        }
      ]
    },
    {
      "cell_type": "code",
      "source": [
        "cv.get_feature_names_out()"
      ],
      "metadata": {
        "colab": {
          "base_uri": "https://localhost:8080/"
        },
        "id": "27pkap7FQSAG",
        "outputId": "ecfa9c3a-5bb9-49e5-da1e-15a47986c07c"
      },
      "execution_count": null,
      "outputs": [
        {
          "output_type": "execute_result",
          "data": {
            "text/plain": [
              "array(['azra', 'aşağı', 'bak', 'gel'], dtype=object)"
            ]
          },
          "metadata": {},
          "execution_count": 20
        }
      ]
    },
    {
      "cell_type": "code",
      "source": [],
      "metadata": {
        "id": "lncke-1FQkZ_"
      },
      "execution_count": null,
      "outputs": []
    }
  ]
}