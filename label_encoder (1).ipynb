{
  "nbformat": 4,
  "nbformat_minor": 0,
  "metadata": {
    "colab": {
      "provenance": []
    },
    "kernelspec": {
      "name": "python3",
      "display_name": "Python 3"
    },
    "language_info": {
      "name": "python"
    }
  },
  "cells": [
    {
      "cell_type": "code",
      "execution_count": null,
      "metadata": {
        "id": "MC81ZOAzGlKs"
      },
      "outputs": [],
      "source": [
        "# Kategorisel verileri numeric verilere çeviriyor\n",
        "# --> [\"bjk\",\"gs\",\"bjk\",\"fb\"] , [0,1,0,2]\n",
        "# --> dummy ---> [\"bjk\",\"gs\",\"bjk\",\"fb\"] ,[[1,0,0],[0,1,0],[1,0,0],[0,0,1]]\n",
        "# --> dummy bağımlı değişkenlerde kullanılması zor çünkü dummy 2 boyutlu"
      ]
    },
    {
      "cell_type": "code",
      "source": [
        "import pandas as pd\n",
        "import numpy as np\n",
        "from sklearn.preprocessing import LabelEncoder"
      ],
      "metadata": {
        "id": "ghI2FRoLL_PD"
      },
      "execution_count": null,
      "outputs": []
    },
    {
      "cell_type": "code",
      "source": [
        "df=pd.read_csv(\"tour_winner.csv\")"
      ],
      "metadata": {
        "id": "mOY_tF3LMkgU"
      },
      "execution_count": null,
      "outputs": []
    },
    {
      "cell_type": "code",
      "source": [
        "df.head(3)"
      ],
      "metadata": {
        "colab": {
          "base_uri": "https://localhost:8080/",
          "height": 267
        },
        "id": "eR-vSvwVMr92",
        "outputId": "8bb5fb59-29ec-4720-c360-cd3d4d1ad945"
      },
      "execution_count": null,
      "outputs": [
        {
          "output_type": "execute_result",
          "data": {
            "text/plain": [
              "   Year  Tour_No            Winner   Country               Team  \\\n",
              "0  2023      110  Jonas Vingegaard   Denmark   Team Jumbo Visma   \n",
              "1  2022      109  Jonas Vingegaard   Denmark   Team Jumbo Visma   \n",
              "2  2021      108     Tadej Pogacar  Slovenia  UAE Team Emirates   \n",
              "\n",
              "  Tour_overall_length_(km)  age   BMI  weight_(Kg)  height_(m)  \\\n",
              "0                     3406   25  19.6         60.0    1.749636   \n",
              "1                     3328   25  19.6         60.0    1.749636   \n",
              "2                     3383   22  21.3         66.0    1.760282   \n",
              "\n",
              "  rider_type_(PPS) close_rider_type_(PPS)  \n",
              "0          climber                    NaN  \n",
              "1          climber                    NaN  \n",
              "2          climber                    NaN  "
            ],
            "text/html": [
              "\n",
              "  <div id=\"df-4108ecd0-e1c0-4450-8721-ae7ee22c5227\" class=\"colab-df-container\">\n",
              "    <div>\n",
              "<style scoped>\n",
              "    .dataframe tbody tr th:only-of-type {\n",
              "        vertical-align: middle;\n",
              "    }\n",
              "\n",
              "    .dataframe tbody tr th {\n",
              "        vertical-align: top;\n",
              "    }\n",
              "\n",
              "    .dataframe thead th {\n",
              "        text-align: right;\n",
              "    }\n",
              "</style>\n",
              "<table border=\"1\" class=\"dataframe\">\n",
              "  <thead>\n",
              "    <tr style=\"text-align: right;\">\n",
              "      <th></th>\n",
              "      <th>Year</th>\n",
              "      <th>Tour_No</th>\n",
              "      <th>Winner</th>\n",
              "      <th>Country</th>\n",
              "      <th>Team</th>\n",
              "      <th>Tour_overall_length_(km)</th>\n",
              "      <th>age</th>\n",
              "      <th>BMI</th>\n",
              "      <th>weight_(Kg)</th>\n",
              "      <th>height_(m)</th>\n",
              "      <th>rider_type_(PPS)</th>\n",
              "      <th>close_rider_type_(PPS)</th>\n",
              "    </tr>\n",
              "  </thead>\n",
              "  <tbody>\n",
              "    <tr>\n",
              "      <th>0</th>\n",
              "      <td>2023</td>\n",
              "      <td>110</td>\n",
              "      <td>Jonas Vingegaard</td>\n",
              "      <td>Denmark</td>\n",
              "      <td>Team Jumbo Visma</td>\n",
              "      <td>3406</td>\n",
              "      <td>25</td>\n",
              "      <td>19.6</td>\n",
              "      <td>60.0</td>\n",
              "      <td>1.749636</td>\n",
              "      <td>climber</td>\n",
              "      <td>NaN</td>\n",
              "    </tr>\n",
              "    <tr>\n",
              "      <th>1</th>\n",
              "      <td>2022</td>\n",
              "      <td>109</td>\n",
              "      <td>Jonas Vingegaard</td>\n",
              "      <td>Denmark</td>\n",
              "      <td>Team Jumbo Visma</td>\n",
              "      <td>3328</td>\n",
              "      <td>25</td>\n",
              "      <td>19.6</td>\n",
              "      <td>60.0</td>\n",
              "      <td>1.749636</td>\n",
              "      <td>climber</td>\n",
              "      <td>NaN</td>\n",
              "    </tr>\n",
              "    <tr>\n",
              "      <th>2</th>\n",
              "      <td>2021</td>\n",
              "      <td>108</td>\n",
              "      <td>Tadej Pogacar</td>\n",
              "      <td>Slovenia</td>\n",
              "      <td>UAE Team Emirates</td>\n",
              "      <td>3383</td>\n",
              "      <td>22</td>\n",
              "      <td>21.3</td>\n",
              "      <td>66.0</td>\n",
              "      <td>1.760282</td>\n",
              "      <td>climber</td>\n",
              "      <td>NaN</td>\n",
              "    </tr>\n",
              "  </tbody>\n",
              "</table>\n",
              "</div>\n",
              "    <div class=\"colab-df-buttons\">\n",
              "\n",
              "  <div class=\"colab-df-container\">\n",
              "    <button class=\"colab-df-convert\" onclick=\"convertToInteractive('df-4108ecd0-e1c0-4450-8721-ae7ee22c5227')\"\n",
              "            title=\"Convert this dataframe to an interactive table.\"\n",
              "            style=\"display:none;\">\n",
              "\n",
              "  <svg xmlns=\"http://www.w3.org/2000/svg\" height=\"24px\" viewBox=\"0 -960 960 960\">\n",
              "    <path d=\"M120-120v-720h720v720H120Zm60-500h600v-160H180v160Zm220 220h160v-160H400v160Zm0 220h160v-160H400v160ZM180-400h160v-160H180v160Zm440 0h160v-160H620v160ZM180-180h160v-160H180v160Zm440 0h160v-160H620v160Z\"/>\n",
              "  </svg>\n",
              "    </button>\n",
              "\n",
              "  <style>\n",
              "    .colab-df-container {\n",
              "      display:flex;\n",
              "      gap: 12px;\n",
              "    }\n",
              "\n",
              "    .colab-df-convert {\n",
              "      background-color: #E8F0FE;\n",
              "      border: none;\n",
              "      border-radius: 50%;\n",
              "      cursor: pointer;\n",
              "      display: none;\n",
              "      fill: #1967D2;\n",
              "      height: 32px;\n",
              "      padding: 0 0 0 0;\n",
              "      width: 32px;\n",
              "    }\n",
              "\n",
              "    .colab-df-convert:hover {\n",
              "      background-color: #E2EBFA;\n",
              "      box-shadow: 0px 1px 2px rgba(60, 64, 67, 0.3), 0px 1px 3px 1px rgba(60, 64, 67, 0.15);\n",
              "      fill: #174EA6;\n",
              "    }\n",
              "\n",
              "    .colab-df-buttons div {\n",
              "      margin-bottom: 4px;\n",
              "    }\n",
              "\n",
              "    [theme=dark] .colab-df-convert {\n",
              "      background-color: #3B4455;\n",
              "      fill: #D2E3FC;\n",
              "    }\n",
              "\n",
              "    [theme=dark] .colab-df-convert:hover {\n",
              "      background-color: #434B5C;\n",
              "      box-shadow: 0px 1px 3px 1px rgba(0, 0, 0, 0.15);\n",
              "      filter: drop-shadow(0px 1px 2px rgba(0, 0, 0, 0.3));\n",
              "      fill: #FFFFFF;\n",
              "    }\n",
              "  </style>\n",
              "\n",
              "    <script>\n",
              "      const buttonEl =\n",
              "        document.querySelector('#df-4108ecd0-e1c0-4450-8721-ae7ee22c5227 button.colab-df-convert');\n",
              "      buttonEl.style.display =\n",
              "        google.colab.kernel.accessAllowed ? 'block' : 'none';\n",
              "\n",
              "      async function convertToInteractive(key) {\n",
              "        const element = document.querySelector('#df-4108ecd0-e1c0-4450-8721-ae7ee22c5227');\n",
              "        const dataTable =\n",
              "          await google.colab.kernel.invokeFunction('convertToInteractive',\n",
              "                                                    [key], {});\n",
              "        if (!dataTable) return;\n",
              "\n",
              "        const docLinkHtml = 'Like what you see? Visit the ' +\n",
              "          '<a target=\"_blank\" href=https://colab.research.google.com/notebooks/data_table.ipynb>data table notebook</a>'\n",
              "          + ' to learn more about interactive tables.';\n",
              "        element.innerHTML = '';\n",
              "        dataTable['output_type'] = 'display_data';\n",
              "        await google.colab.output.renderOutput(dataTable, element);\n",
              "        const docLink = document.createElement('div');\n",
              "        docLink.innerHTML = docLinkHtml;\n",
              "        element.appendChild(docLink);\n",
              "      }\n",
              "    </script>\n",
              "  </div>\n",
              "\n",
              "\n",
              "<div id=\"df-545910bc-1973-43fe-9393-7d0d2e45ced6\">\n",
              "  <button class=\"colab-df-quickchart\" onclick=\"quickchart('df-545910bc-1973-43fe-9393-7d0d2e45ced6')\"\n",
              "            title=\"Suggest charts\"\n",
              "            style=\"display:none;\">\n",
              "\n",
              "<svg xmlns=\"http://www.w3.org/2000/svg\" height=\"24px\"viewBox=\"0 0 24 24\"\n",
              "     width=\"24px\">\n",
              "    <g>\n",
              "        <path d=\"M19 3H5c-1.1 0-2 .9-2 2v14c0 1.1.9 2 2 2h14c1.1 0 2-.9 2-2V5c0-1.1-.9-2-2-2zM9 17H7v-7h2v7zm4 0h-2V7h2v10zm4 0h-2v-4h2v4z\"/>\n",
              "    </g>\n",
              "</svg>\n",
              "  </button>\n",
              "\n",
              "<style>\n",
              "  .colab-df-quickchart {\n",
              "      --bg-color: #E8F0FE;\n",
              "      --fill-color: #1967D2;\n",
              "      --hover-bg-color: #E2EBFA;\n",
              "      --hover-fill-color: #174EA6;\n",
              "      --disabled-fill-color: #AAA;\n",
              "      --disabled-bg-color: #DDD;\n",
              "  }\n",
              "\n",
              "  [theme=dark] .colab-df-quickchart {\n",
              "      --bg-color: #3B4455;\n",
              "      --fill-color: #D2E3FC;\n",
              "      --hover-bg-color: #434B5C;\n",
              "      --hover-fill-color: #FFFFFF;\n",
              "      --disabled-bg-color: #3B4455;\n",
              "      --disabled-fill-color: #666;\n",
              "  }\n",
              "\n",
              "  .colab-df-quickchart {\n",
              "    background-color: var(--bg-color);\n",
              "    border: none;\n",
              "    border-radius: 50%;\n",
              "    cursor: pointer;\n",
              "    display: none;\n",
              "    fill: var(--fill-color);\n",
              "    height: 32px;\n",
              "    padding: 0;\n",
              "    width: 32px;\n",
              "  }\n",
              "\n",
              "  .colab-df-quickchart:hover {\n",
              "    background-color: var(--hover-bg-color);\n",
              "    box-shadow: 0 1px 2px rgba(60, 64, 67, 0.3), 0 1px 3px 1px rgba(60, 64, 67, 0.15);\n",
              "    fill: var(--button-hover-fill-color);\n",
              "  }\n",
              "\n",
              "  .colab-df-quickchart-complete:disabled,\n",
              "  .colab-df-quickchart-complete:disabled:hover {\n",
              "    background-color: var(--disabled-bg-color);\n",
              "    fill: var(--disabled-fill-color);\n",
              "    box-shadow: none;\n",
              "  }\n",
              "\n",
              "  .colab-df-spinner {\n",
              "    border: 2px solid var(--fill-color);\n",
              "    border-color: transparent;\n",
              "    border-bottom-color: var(--fill-color);\n",
              "    animation:\n",
              "      spin 1s steps(1) infinite;\n",
              "  }\n",
              "\n",
              "  @keyframes spin {\n",
              "    0% {\n",
              "      border-color: transparent;\n",
              "      border-bottom-color: var(--fill-color);\n",
              "      border-left-color: var(--fill-color);\n",
              "    }\n",
              "    20% {\n",
              "      border-color: transparent;\n",
              "      border-left-color: var(--fill-color);\n",
              "      border-top-color: var(--fill-color);\n",
              "    }\n",
              "    30% {\n",
              "      border-color: transparent;\n",
              "      border-left-color: var(--fill-color);\n",
              "      border-top-color: var(--fill-color);\n",
              "      border-right-color: var(--fill-color);\n",
              "    }\n",
              "    40% {\n",
              "      border-color: transparent;\n",
              "      border-right-color: var(--fill-color);\n",
              "      border-top-color: var(--fill-color);\n",
              "    }\n",
              "    60% {\n",
              "      border-color: transparent;\n",
              "      border-right-color: var(--fill-color);\n",
              "    }\n",
              "    80% {\n",
              "      border-color: transparent;\n",
              "      border-right-color: var(--fill-color);\n",
              "      border-bottom-color: var(--fill-color);\n",
              "    }\n",
              "    90% {\n",
              "      border-color: transparent;\n",
              "      border-bottom-color: var(--fill-color);\n",
              "    }\n",
              "  }\n",
              "</style>\n",
              "\n",
              "  <script>\n",
              "    async function quickchart(key) {\n",
              "      const quickchartButtonEl =\n",
              "        document.querySelector('#' + key + ' button');\n",
              "      quickchartButtonEl.disabled = true;  // To prevent multiple clicks.\n",
              "      quickchartButtonEl.classList.add('colab-df-spinner');\n",
              "      try {\n",
              "        const charts = await google.colab.kernel.invokeFunction(\n",
              "            'suggestCharts', [key], {});\n",
              "      } catch (error) {\n",
              "        console.error('Error during call to suggestCharts:', error);\n",
              "      }\n",
              "      quickchartButtonEl.classList.remove('colab-df-spinner');\n",
              "      quickchartButtonEl.classList.add('colab-df-quickchart-complete');\n",
              "    }\n",
              "    (() => {\n",
              "      let quickchartButtonEl =\n",
              "        document.querySelector('#df-545910bc-1973-43fe-9393-7d0d2e45ced6 button');\n",
              "      quickchartButtonEl.style.display =\n",
              "        google.colab.kernel.accessAllowed ? 'block' : 'none';\n",
              "    })();\n",
              "  </script>\n",
              "</div>\n",
              "\n",
              "    </div>\n",
              "  </div>\n"
            ],
            "application/vnd.google.colaboratory.intrinsic+json": {
              "type": "dataframe",
              "variable_name": "df",
              "summary": "{\n  \"name\": \"df\",\n  \"rows\": 110,\n  \"fields\": [\n    {\n      \"column\": \"Year\",\n      \"properties\": {\n        \"dtype\": \"number\",\n        \"std\": 35,\n        \"min\": 1903,\n        \"max\": 2023,\n        \"num_unique_values\": 110,\n        \"samples\": [\n          1938,\n          2013,\n          2019\n        ],\n        \"semantic_type\": \"\",\n        \"description\": \"\"\n      }\n    },\n    {\n      \"column\": \"Tour_No\",\n      \"properties\": {\n        \"dtype\": \"number\",\n        \"std\": 31,\n        \"min\": 1,\n        \"max\": 110,\n        \"num_unique_values\": 110,\n        \"samples\": [\n          32,\n          100,\n          106\n        ],\n        \"semantic_type\": \"\",\n        \"description\": \"\"\n      }\n    },\n    {\n      \"column\": \"Winner\",\n      \"properties\": {\n        \"dtype\": \"string\",\n        \"num_unique_values\": 65,\n        \"samples\": [\n          \"Firmin Lambot\",\n          \"Lucien Petit-Breton\",\n          \"Jonas Vingegaard\"\n        ],\n        \"semantic_type\": \"\",\n        \"description\": \"\"\n      }\n    },\n    {\n      \"column\": \"Country\",\n      \"properties\": {\n        \"dtype\": \"category\",\n        \"num_unique_values\": 17,\n        \"samples\": [\n          \"Denmark\",\n          \"Slovenia\",\n          \"Australia\"\n        ],\n        \"semantic_type\": \"\",\n        \"description\": \"\"\n      }\n    },\n    {\n      \"column\": \"Team\",\n      \"properties\": {\n        \"dtype\": \"category\",\n        \"num_unique_values\": 47,\n        \"samples\": [\n          \"Faema\",\n          \"Belgium\",\n          \"Faemino\"\n        ],\n        \"semantic_type\": \"\",\n        \"description\": \"\"\n      }\n    },\n    {\n      \"column\": \"Tour_overall_length_(km)\",\n      \"properties\": {\n        \"dtype\": \"string\",\n        \"num_unique_values\": 105,\n        \"samples\": [\n          \"3714\",\n          \"4495\",\n          \"4496\"\n        ],\n        \"semantic_type\": \"\",\n        \"description\": \"\"\n      }\n    },\n    {\n      \"column\": \"age\",\n      \"properties\": {\n        \"dtype\": \"number\",\n        \"std\": 3,\n        \"min\": 19,\n        \"max\": 36,\n        \"num_unique_values\": 17,\n        \"samples\": [\n          25,\n          22,\n          35\n        ],\n        \"semantic_type\": \"\",\n        \"description\": \"\"\n      }\n    },\n    {\n      \"column\": \"BMI\",\n      \"properties\": {\n        \"dtype\": \"number\",\n        \"std\": 1.600970849345948,\n        \"min\": 19.1,\n        \"max\": 27.8,\n        \"num_unique_values\": 26,\n        \"samples\": [\n          20.0,\n          24.2,\n          19.6\n        ],\n        \"semantic_type\": \"\",\n        \"description\": \"\"\n      }\n    },\n    {\n      \"column\": \"weight_(Kg)\",\n      \"properties\": {\n        \"dtype\": \"number\",\n        \"std\": 6.603364790722692,\n        \"min\": 52.0,\n        \"max\": 88.0,\n        \"num_unique_values\": 19,\n        \"samples\": [\n          60.0,\n          64.0,\n          80.0\n        ],\n        \"semantic_type\": \"\",\n        \"description\": \"\"\n      }\n    },\n    {\n      \"column\": \"height_(m)\",\n      \"properties\": {\n        \"dtype\": \"number\",\n        \"std\": 0.05610606367301992,\n        \"min\": 1.611645928,\n        \"max\": 1.900674997,\n        \"num_unique_values\": 34,\n        \"samples\": [\n          1.860968421,\n          1.739077412,\n          1.729350805\n        ],\n        \"semantic_type\": \"\",\n        \"description\": \"\"\n      }\n    },\n    {\n      \"column\": \"rider_type_(PPS)\",\n      \"properties\": {\n        \"dtype\": \"category\",\n        \"num_unique_values\": 5,\n        \"samples\": [\n          \"climber \",\n          \"sprinter \",\n          \"time trial \"\n        ],\n        \"semantic_type\": \"\",\n        \"description\": \"\"\n      }\n    },\n    {\n      \"column\": \"close_rider_type_(PPS)\",\n      \"properties\": {\n        \"dtype\": \"category\",\n        \"num_unique_values\": 4,\n        \"samples\": [\n          \"climber \",\n          \"sprinter \",\n          \"time trial\"\n        ],\n        \"semantic_type\": \"\",\n        \"description\": \"\"\n      }\n    }\n  ]\n}"
            }
          },
          "metadata": {},
          "execution_count": 6
        }
      ]
    },
    {
      "cell_type": "code",
      "source": [
        "le=LabelEncoder()\n",
        "le.fit(df[\"Team\"])"
      ],
      "metadata": {
        "colab": {
          "base_uri": "https://localhost:8080/",
          "height": 74
        },
        "id": "cIs0zM2iM29o",
        "outputId": "1595b1e0-0d94-474d-f978-2aa120265e3a"
      },
      "execution_count": null,
      "outputs": [
        {
          "output_type": "execute_result",
          "data": {
            "text/plain": [
              "LabelEncoder()"
            ],
            "text/html": [
              "<style>#sk-container-id-3 {color: black;background-color: white;}#sk-container-id-3 pre{padding: 0;}#sk-container-id-3 div.sk-toggleable {background-color: white;}#sk-container-id-3 label.sk-toggleable__label {cursor: pointer;display: block;width: 100%;margin-bottom: 0;padding: 0.3em;box-sizing: border-box;text-align: center;}#sk-container-id-3 label.sk-toggleable__label-arrow:before {content: \"▸\";float: left;margin-right: 0.25em;color: #696969;}#sk-container-id-3 label.sk-toggleable__label-arrow:hover:before {color: black;}#sk-container-id-3 div.sk-estimator:hover label.sk-toggleable__label-arrow:before {color: black;}#sk-container-id-3 div.sk-toggleable__content {max-height: 0;max-width: 0;overflow: hidden;text-align: left;background-color: #f0f8ff;}#sk-container-id-3 div.sk-toggleable__content pre {margin: 0.2em;color: black;border-radius: 0.25em;background-color: #f0f8ff;}#sk-container-id-3 input.sk-toggleable__control:checked~div.sk-toggleable__content {max-height: 200px;max-width: 100%;overflow: auto;}#sk-container-id-3 input.sk-toggleable__control:checked~label.sk-toggleable__label-arrow:before {content: \"▾\";}#sk-container-id-3 div.sk-estimator input.sk-toggleable__control:checked~label.sk-toggleable__label {background-color: #d4ebff;}#sk-container-id-3 div.sk-label input.sk-toggleable__control:checked~label.sk-toggleable__label {background-color: #d4ebff;}#sk-container-id-3 input.sk-hidden--visually {border: 0;clip: rect(1px 1px 1px 1px);clip: rect(1px, 1px, 1px, 1px);height: 1px;margin: -1px;overflow: hidden;padding: 0;position: absolute;width: 1px;}#sk-container-id-3 div.sk-estimator {font-family: monospace;background-color: #f0f8ff;border: 1px dotted black;border-radius: 0.25em;box-sizing: border-box;margin-bottom: 0.5em;}#sk-container-id-3 div.sk-estimator:hover {background-color: #d4ebff;}#sk-container-id-3 div.sk-parallel-item::after {content: \"\";width: 100%;border-bottom: 1px solid gray;flex-grow: 1;}#sk-container-id-3 div.sk-label:hover label.sk-toggleable__label {background-color: #d4ebff;}#sk-container-id-3 div.sk-serial::before {content: \"\";position: absolute;border-left: 1px solid gray;box-sizing: border-box;top: 0;bottom: 0;left: 50%;z-index: 0;}#sk-container-id-3 div.sk-serial {display: flex;flex-direction: column;align-items: center;background-color: white;padding-right: 0.2em;padding-left: 0.2em;position: relative;}#sk-container-id-3 div.sk-item {position: relative;z-index: 1;}#sk-container-id-3 div.sk-parallel {display: flex;align-items: stretch;justify-content: center;background-color: white;position: relative;}#sk-container-id-3 div.sk-item::before, #sk-container-id-3 div.sk-parallel-item::before {content: \"\";position: absolute;border-left: 1px solid gray;box-sizing: border-box;top: 0;bottom: 0;left: 50%;z-index: -1;}#sk-container-id-3 div.sk-parallel-item {display: flex;flex-direction: column;z-index: 1;position: relative;background-color: white;}#sk-container-id-3 div.sk-parallel-item:first-child::after {align-self: flex-end;width: 50%;}#sk-container-id-3 div.sk-parallel-item:last-child::after {align-self: flex-start;width: 50%;}#sk-container-id-3 div.sk-parallel-item:only-child::after {width: 0;}#sk-container-id-3 div.sk-dashed-wrapped {border: 1px dashed gray;margin: 0 0.4em 0.5em 0.4em;box-sizing: border-box;padding-bottom: 0.4em;background-color: white;}#sk-container-id-3 div.sk-label label {font-family: monospace;font-weight: bold;display: inline-block;line-height: 1.2em;}#sk-container-id-3 div.sk-label-container {text-align: center;}#sk-container-id-3 div.sk-container {/* jupyter's `normalize.less` sets `[hidden] { display: none; }` but bootstrap.min.css set `[hidden] { display: none !important; }` so we also need the `!important` here to be able to override the default hidden behavior on the sphinx rendered scikit-learn.org. See: https://github.com/scikit-learn/scikit-learn/issues/21755 */display: inline-block !important;position: relative;}#sk-container-id-3 div.sk-text-repr-fallback {display: none;}</style><div id=\"sk-container-id-3\" class=\"sk-top-container\"><div class=\"sk-text-repr-fallback\"><pre>LabelEncoder()</pre><b>In a Jupyter environment, please rerun this cell to show the HTML representation or trust the notebook. <br />On GitHub, the HTML representation is unable to render, please try loading this page with nbviewer.org.</b></div><div class=\"sk-container\" hidden><div class=\"sk-item\"><div class=\"sk-estimator sk-toggleable\"><input class=\"sk-toggleable__control sk-hidden--visually\" id=\"sk-estimator-id-3\" type=\"checkbox\" checked><label for=\"sk-estimator-id-3\" class=\"sk-toggleable__label sk-toggleable__label-arrow\">LabelEncoder</label><div class=\"sk-toggleable__content\"><pre>LabelEncoder()</pre></div></div></div></div></div>"
            ]
          },
          "metadata": {},
          "execution_count": 16
        }
      ]
    },
    {
      "cell_type": "code",
      "source": [
        "le.transform(df[\"Team\"])"
      ],
      "metadata": {
        "id": "Jlx3m5l0Qfvt"
      },
      "execution_count": null,
      "outputs": []
    },
    {
      "cell_type": "code",
      "source": [
        "x"
      ],
      "metadata": {
        "colab": {
          "base_uri": "https://localhost:8080/"
        },
        "id": "q6epR7D1OcPS",
        "outputId": "d6d19cf0-c5d7-4bbb-9a6a-a98f0ada0cad"
      },
      "execution_count": null,
      "outputs": [
        {
          "output_type": "execute_result",
          "data": {
            "text/plain": [
              "array([40, 40, 44, 44, 39, 42, 42, 42, 42,  4, 42, 42,  6, 41,  3, 38, 14,\n",
              "       10, 14, 45, 45, 45, 45, 45, 45, 26, 43, 43,  7,  7,  7,  7,  7, 46,\n",
              "        0, 32, 11, 25, 25, 31, 31, 31, 31, 37, 31, 31, 30, 19, 30, 27,  9,\n",
              "       27, 27, 16, 15, 20, 18, 17, 33, 35, 35, 35, 18, 22, 34, 21, 18, 28,\n",
              "       18, 18, 18, 22, 36, 36, 22, 22, 29,  8, 22, 18,  8,  8, 18, 18, 18,\n",
              "       18, 18,  1,  1,  1,  5,  5,  5,  5, 13, 24, 24, 24, 13, 13,  2,  2,\n",
              "        2,  2, 13, 13, 13, 13, 12, 23])"
            ]
          },
          "metadata": {},
          "execution_count": 25
        }
      ]
    },
    {
      "cell_type": "code",
      "source": [
        "le.inverse_transform(x)"
      ],
      "metadata": {
        "colab": {
          "base_uri": "https://localhost:8080/"
        },
        "id": "TL-qusDINJB3",
        "outputId": "f9aec169-aa88-4289-ab9d-a94d15c075fe"
      },
      "execution_count": null,
      "outputs": [
        {
          "output_type": "execute_result",
          "data": {
            "text/plain": [
              "array(['Team Jumbo Visma', 'Team Jumbo Visma', 'UAE Team Emirates',\n",
              "       'UAE Team Emirates', 'Team Ineos ', 'Team Sky', 'Team Sky',\n",
              "       'Team Sky', 'Team Sky', 'Astana Pro Team', 'Team Sky', 'Team Sky',\n",
              "       'BMC Racing Team', 'Team Saxo Bank', 'Astana',\n",
              "       'Team CSC Saxo Bank', 'Discovery Channel', \"Caisse d'Epargne\",\n",
              "       'Discovery Channel', 'US Postal Service', 'US Postal Service',\n",
              "       'US Postal Service', 'US Postal Service', 'US Postal Service',\n",
              "       'US Postal Service', 'Mercatone Uno', 'Telekom', 'Telekom',\n",
              "       'Banesto', 'Banesto', 'Banesto', 'Banesto', 'Banesto', 'Z Tomasso',\n",
              "       'ADR', 'Reynolds', 'Carrera', 'La Vie Claire', 'La Vie Claire',\n",
              "       'Renault', 'Renault', 'Renault', 'Renault', 'TI Raleigh',\n",
              "       'Renault', 'Renault', 'Peugeot', 'Gitane', 'Peugeot', 'Molteni',\n",
              "       'Bic', 'Molteni', 'Molteni', 'Faemino', 'Faema', 'Holland',\n",
              "       'France', 'Ford', 'Salvarini', 'St-Raphael', 'St-Raphael',\n",
              "       'St-Raphael', 'France', 'Italy', 'Spain', 'Holland Luxembourg',\n",
              "       'France', 'Nord Est Centre', 'France', 'France', 'France', 'Italy',\n",
              "       'Switzerland', 'Switzerland', 'Italy', 'Italy', 'Ouest', 'Belgium',\n",
              "       'Italy', 'France', 'Belgium', 'Belgium', 'France', 'France',\n",
              "       'France', 'France', 'France', 'Alcyon', 'Alcyon', 'Alcyon',\n",
              "       'Automoto', 'Automoto', 'Automoto', 'Automoto', 'Cycles Peugeot',\n",
              "       'La Sportive', 'La Sportive', 'La Sportive', 'Cycles Peugeot',\n",
              "       'Cycles Peugeot', 'Alycon', 'Alycon', 'Alycon', 'Alycon',\n",
              "       'Cycles Peugeot', 'Cycles Peugeot', 'Cycles Peugeot',\n",
              "       'Cycles Peugeot', 'Cycles JC', 'La Francaise'], dtype=object)"
            ]
          },
          "metadata": {},
          "execution_count": 26
        }
      ]
    },
    {
      "cell_type": "code",
      "source": [
        "le=LabelEncoder()     #encoder nesnesi oluştur\n",
        "x2=le.fit_transform(df[\"Team\"])  #team satırını sayısal değere çevir\n",
        "print(x2)"
      ],
      "metadata": {
        "colab": {
          "base_uri": "https://localhost:8080/"
        },
        "id": "5mSRo3JjN4__",
        "outputId": "b1d97b9e-9641-4a99-8597-2d2fef83d685"
      },
      "execution_count": null,
      "outputs": [
        {
          "output_type": "stream",
          "name": "stdout",
          "text": [
            "[40 40 44 44 39 42 42 42 42  4 42 42  6 41  3 38 14 10 14 45 45 45 45 45\n",
            " 45 26 43 43  7  7  7  7  7 46  0 32 11 25 25 31 31 31 31 37 31 31 30 19\n",
            " 30 27  9 27 27 16 15 20 18 17 33 35 35 35 18 22 34 21 18 28 18 18 18 22\n",
            " 36 36 22 22 29  8 22 18  8  8 18 18 18 18 18  1  1  1  5  5  5  5 13 24\n",
            " 24 24 13 13  2  2  2  2 13 13 13 13 12 23]\n"
          ]
        }
      ]
    },
    {
      "cell_type": "code",
      "source": [],
      "metadata": {
        "id": "2czVpKF7OLx7"
      },
      "execution_count": null,
      "outputs": []
    }
  ]
}